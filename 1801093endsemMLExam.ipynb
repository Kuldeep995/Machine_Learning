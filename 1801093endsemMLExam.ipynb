{
  "nbformat": 4,
  "nbformat_minor": 0,
  "metadata": {
    "colab": {
      "name": "1801093endsemMLExam",
      "provenance": [],
      "collapsed_sections": [],
      "authorship_tag": "ABX9TyOy3bw4BYt1rtjK8KKgt3yP",
      "include_colab_link": true
    },
    "kernelspec": {
      "name": "python3",
      "display_name": "Python 3"
    }
  },
  "cells": [
    {
      "cell_type": "markdown",
      "metadata": {
        "id": "view-in-github",
        "colab_type": "text"
      },
      "source": [
        "<a href=\"https://colab.research.google.com/github/Kuldeep995/Machine_Learning/blob/master/1801093endsemMLExam.ipynb\" target=\"_parent\"><img src=\"https://colab.research.google.com/assets/colab-badge.svg\" alt=\"Open In Colab\"/></a>"
      ]
    },
    {
      "cell_type": "markdown",
      "metadata": {
        "id": "qvhR63d64u04"
      },
      "source": [
        "# **Question** **3**"
      ]
    },
    {
      "cell_type": "code",
      "metadata": {
        "id": "5BqJoRmXY1EH",
        "colab": {
          "base_uri": "https://localhost:8080/"
        },
        "outputId": "3bce5e3a-eed5-4aeb-beb6-7a14d2dbc8ba"
      },
      "source": [
        "from google.colab import drive\n",
        "drive.mount('/content/drive')"
      ],
      "execution_count": null,
      "outputs": [
        {
          "output_type": "stream",
          "text": [
            "Mounted at /content/drive\n"
          ],
          "name": "stdout"
        }
      ]
    },
    {
      "cell_type": "markdown",
      "metadata": {
        "id": "YwksD9NA4-E9"
      },
      "source": [
        "### **Loading Pavia University Dataset**"
      ]
    },
    {
      "cell_type": "code",
      "metadata": {
        "id": "8UQVhODHhSwj",
        "colab": {
          "base_uri": "https://localhost:8080/"
        },
        "outputId": "78b4c4e2-6fd9-4b29-8b41-ab2b574425d1"
      },
      "source": [
        "from os.path import dirname, join as pjoin\n",
        "import scipy.io as sio\n",
        "import pandas as pd\n",
        "import numpy as np\n",
        "\n",
        "S=sio.loadmat('/content/drive/My Drive/ML_data/PaviaU.mat')\n",
        "sample = S['paviaU']\n",
        "print(sample.shape)\n",
        "sample = sample.reshape((sample.shape[0]*sample.shape[1]), sample.shape[2])\n",
        "print(sample.shape)\n",
        "\n",
        "T=sio.loadmat('/content/drive/My Drive/ML_data/PaviaU_gt.mat')\n",
        "output = T['paviaU_gt']\n",
        "print(output.shape)\n",
        "output = output.reshape((output.shape[0]*output.shape[1]))\n",
        "print(output.shape)"
      ],
      "execution_count": null,
      "outputs": [
        {
          "output_type": "stream",
          "text": [
            "(610, 340, 103)\n",
            "(207400, 103)\n",
            "(610, 340)\n",
            "(207400,)\n"
          ],
          "name": "stdout"
        }
      ]
    },
    {
      "cell_type": "markdown",
      "metadata": {
        "id": "C9pwzRBa5N__"
      },
      "source": [
        "**Training using MLP**"
      ]
    },
    {
      "cell_type": "code",
      "metadata": {
        "id": "yBD4BkDVmluy",
        "colab": {
          "base_uri": "https://localhost:8080/"
        },
        "outputId": "89209cc3-b449-44cf-fe76-f5fe53144455"
      },
      "source": [
        "from sklearn.neural_network import MLPClassifier\n",
        "from sklearn.datasets import make_classification\n",
        "from sklearn.model_selection import train_test_split\n",
        "# X, y = make_classification(n_samples=207400, random_state=1)\n",
        "X_train, X_test, y_train, y_test = train_test_split(sample, output, stratify=output,\n",
        "                                                    random_state=1)\n",
        "clf = MLPClassifier(random_state=1, max_iter=300).fit(X_train, y_train)\n",
        "clf.predict_proba(X_test[:1])\n",
        "\n",
        "clf.predict(X_test[:5, :])\n",
        "\n",
        "clf.score(X_test, y_test)"
      ],
      "execution_count": null,
      "outputs": [
        {
          "output_type": "execute_result",
          "data": {
            "text/plain": [
              "0.7943105110896818"
            ]
          },
          "metadata": {
            "tags": []
          },
          "execution_count": 6
        }
      ]
    },
    {
      "cell_type": "markdown",
      "metadata": {
        "id": "v52RNC2O5ZOh"
      },
      "source": [
        "**Training using MLP for different learning rate**"
      ]
    },
    {
      "cell_type": "code",
      "metadata": {
        "id": "-oXt5RO2uxJD",
        "colab": {
          "base_uri": "https://localhost:8080/"
        },
        "outputId": "e39813b7-c7bc-4605-fa48-8a80efa733b7"
      },
      "source": [
        "from sklearn.neural_network import MLPClassifier\n",
        "from sklearn.datasets import make_classification\n",
        "from sklearn.model_selection import train_test_split\n",
        "# X, y = make_classification(n_samples=100, random_state=1)\n",
        "X=sample\n",
        "y=output\n",
        "X_train, X_test, y_train, y_test = train_test_split(X, y, stratify=y,\n",
        "                                                    random_state=1)\n",
        "\n",
        "learning_rate=[0.001,0.003,0.005,0.1,0.03,0.05]\n",
        "accuracy=[]\n",
        "\n",
        "for lr in learning_rate:\n",
        "  clf = MLPClassifier(learning_rate_init=lr,random_state=1, max_iter=200).fit(X_train, y_train)\n",
        "  \n",
        "\n",
        "  \n",
        "  accuracy.append(clf.score(X_test, y_test))\n",
        "\n",
        "print(accuracy)"
      ],
      "execution_count": null,
      "outputs": [
        {
          "output_type": "stream",
          "text": [
            "[0.7943105110896818, 0.7937126325940213, 0.7937512054001928, 0.793731918997107, 0.793731918997107, 0.7937512054001928]\n"
          ],
          "name": "stdout"
        }
      ]
    },
    {
      "cell_type": "markdown",
      "metadata": {
        "id": "AoFB6zRd8JUa"
      },
      "source": [
        "**Taking learning rate = 0.001 as that produces highest accuracy**"
      ]
    },
    {
      "cell_type": "markdown",
      "metadata": {
        "id": "aYTNpR1h5jDo"
      },
      "source": [
        "**Applying PCA**"
      ]
    },
    {
      "cell_type": "code",
      "metadata": {
        "id": "SDdc1dT8vjt3",
        "colab": {
          "base_uri": "https://localhost:8080/"
        },
        "outputId": "6a9cf56f-aaa5-4242-d07d-3f70602e7732"
      },
      "source": [
        "data = pd.DataFrame(data = sample) \n",
        "\n",
        "from sklearn.preprocessing import StandardScaler \n",
        "  \n",
        "scalar = StandardScaler() \n",
        "scalar.fit(data.dropna()) \n",
        "scaled_data = scalar.transform(data.dropna()) \n",
        "  \n",
        "from sklearn.decomposition import PCA \n",
        "\n",
        "pca = PCA(n_components = data.shape[1]) \n",
        "p=pca.fit(scaled_data) \n",
        "x_pca = pca.transform(scaled_data) \n",
        "  \n",
        "x_pca.shape"
      ],
      "execution_count": null,
      "outputs": [
        {
          "output_type": "execute_result",
          "data": {
            "text/plain": [
              "(207400, 103)"
            ]
          },
          "metadata": {
            "tags": []
          },
          "execution_count": 33
        }
      ]
    },
    {
      "cell_type": "markdown",
      "metadata": {
        "id": "FcdCr9dP5utF"
      },
      "source": [
        "**Generating variance vs no of components plot to select no of features**"
      ]
    },
    {
      "cell_type": "code",
      "metadata": {
        "id": "-GmPD-javj4M",
        "colab": {
          "base_uri": "https://localhost:8080/",
          "height": 296
        },
        "outputId": "6a97bc37-db7d-4c51-c6d8-87924b18ccc6"
      },
      "source": [
        "import matplotlib.pyplot as plt\n",
        "\n",
        "plt.plot(np.cumsum(p.explained_variance_ratio_))\n",
        "plt.xlabel('number of components')\n",
        "plt.ylabel('cumulative explained variance')"
      ],
      "execution_count": null,
      "outputs": [
        {
          "output_type": "execute_result",
          "data": {
            "text/plain": [
              "Text(0, 0.5, 'cumulative explained variance')"
            ]
          },
          "metadata": {
            "tags": []
          },
          "execution_count": 34
        },
        {
          "output_type": "display_data",
          "data": {
            "image/png": "[encoded data removed]",
            "text/plain": [
              "<Figure size 432x288 with 1 Axes>"
            ]
          },
          "metadata": {
            "tags": [],
            "needs_background": "light"
          }
        }
      ]
    },
    {
      "cell_type": "markdown",
      "metadata": {
        "id": "-XStLaZp6AYx"
      },
      "source": [
        "**Selecting 10 features as the plot takes sharp turn there **"
      ]
    },
    {
      "cell_type": "code",
      "metadata": {
        "id": "GSC6VCeD0Oz_"
      },
      "source": [
        "_pca = PCA(n_components = 10) \n",
        "_pca.fit(scaled_data) \n",
        "final = _pca.transform(scaled_data) "
      ],
      "execution_count": null,
      "outputs": []
    },
    {
      "cell_type": "markdown",
      "metadata": {
        "id": "IHVdco8H6kIi"
      },
      "source": [
        "**Applying MLP using 10 features**"
      ]
    },
    {
      "cell_type": "code",
      "metadata": {
        "id": "P9SGKPBX17YZ",
        "colab": {
          "base_uri": "https://localhost:8080/"
        },
        "outputId": "b7f45d92-5798-433e-d8f8-e5211e82a4bb"
      },
      "source": [
        "from sklearn.neural_network import MLPClassifier\n",
        "from sklearn.datasets import make_classification\n",
        "from sklearn.model_selection import train_test_split\n",
        "X=final\n",
        "y=y\n",
        "X_train, X_test, y_train, y_test = train_test_split(X, y, stratify=y,\n",
        "                                                    random_state=1)\n",
        "clf = MLPClassifier(hidden_layer_sizes=105,random_state=1, max_iter=300).fit(X_train, y_train)\n",
        "clf.predict_proba(X_test[:1])\n",
        "\n",
        "clf.predict(X_test[:5, :])\n",
        "\n",
        "print(\"accuracy\",)\n",
        "clf.score(X_test, y_test)"
      ],
      "execution_count": null,
      "outputs": [
        {
          "output_type": "stream",
          "text": [
            "accuracy\n"
          ],
          "name": "stdout"
        },
        {
          "output_type": "execute_result",
          "data": {
            "text/plain": [
              "0.8419093539054966"
            ]
          },
          "metadata": {
            "tags": []
          },
          "execution_count": 37
        }
      ]
    },
    {
      "cell_type": "markdown",
      "metadata": {
        "id": "DvggcI4I80VK"
      },
      "source": [
        "We notice that it produces good accuracy even with less features"
      ]
    },
    {
      "cell_type": "markdown",
      "metadata": {
        "id": "Hcz4ltAo8-Hv"
      },
      "source": [
        "**Running code by varying no of features**"
      ]
    },
    {
      "cell_type": "code",
      "metadata": {
        "id": "AYLBQnXc4MKh",
        "colab": {
          "base_uri": "https://localhost:8080/"
        },
        "outputId": "f4a1d8c5-5842-43c3-fb08-4b3737bedd67"
      },
      "source": [
        "\n",
        "_pca = PCA(n_components = 20 ) \n",
        "_pca.fit(scaled_data) \n",
        "final = _pca.transform(scaled_data) \n",
        "X=final\n",
        "y=y\n",
        "X_train, X_test, y_train, y_test = train_test_split(X, y, stratify=y,\n",
        "                                                    random_state=1)\n",
        "clf = MLPClassifier(hidden_layer_sizes=105,random_state=1, max_iter=300).fit(X_train, y_train)\n",
        "clf.predict_proba(X_test[:1])\n",
        "clf.predict(X_test[:5, :])\n",
        "\n",
        "print(\"accuracy : \")\n",
        "clf.score(X_test, y_test)\n",
        "\n"
      ],
      "execution_count": null,
      "outputs": [
        {
          "output_type": "stream",
          "text": [
            "accuracy : \n"
          ],
          "name": "stdout"
        },
        {
          "output_type": "execute_result",
          "data": {
            "text/plain": [
              "0.8703567984570878"
            ]
          },
          "metadata": {
            "tags": []
          },
          "execution_count": 49
        }
      ]
    },
    {
      "cell_type": "code",
      "metadata": {
        "id": "7ZdC9HQ0FPrj",
        "colab": {
          "base_uri": "https://localhost:8080/"
        },
        "outputId": "81472ceb-a944-489c-ed14-c87d518d4cfd"
      },
      "source": [
        "\n",
        "_pca = PCA(n_components = 23 ) \n",
        "_pca.fit(scaled_data) \n",
        "final = _pca.transform(scaled_data) \n",
        "X=final\n",
        "y=y\n",
        "X_train, X_test, y_train, y_test = train_test_split(X, y, stratify=y,\n",
        "                                                    random_state=1)\n",
        "clf = MLPClassifier(hidden_layer_sizes=105,random_state=1, max_iter=300).fit(X_train, y_train)\n",
        "clf.predict_proba(X_test[:1])\n",
        "clf.predict(X_test[:5, :])\n",
        "\n",
        "print(\"accuracy : \")\n",
        "clf.score(X_test, y_test)\n",
        "\n"
      ],
      "execution_count": null,
      "outputs": [
        {
          "output_type": "stream",
          "text": [
            "accuracy : \n"
          ],
          "name": "stdout"
        },
        {
          "output_type": "execute_result",
          "data": {
            "text/plain": [
              "0.8695660559305689"
            ]
          },
          "metadata": {
            "tags": []
          },
          "execution_count": 50
        }
      ]
    },
    {
      "cell_type": "markdown",
      "metadata": {
        "id": "iXTkvCDn_IcJ"
      },
      "source": [
        "accuracy for 103 features is = 0.79\n",
        "accuracy for 10 features is = 0.84\n",
        "# **for other two features its taking too much time so could not run it in time, took more than 15 mins to run just for 1 feature**"
      ]
    }
  ]
}