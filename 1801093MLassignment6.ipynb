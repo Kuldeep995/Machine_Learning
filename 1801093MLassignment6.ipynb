{
  "nbformat": 4,
  "nbformat_minor": 0,
  "metadata": {
    "colab": {
      "name": "1801093MLassignment6.ipynb",
      "provenance": [],
      "collapsed_sections": [],
      "authorship_tag": "ABX9TyMkFimhJbR3kZq04ybYtE6c",
      "include_colab_link": true
    },
    "kernelspec": {
      "name": "python3",
      "display_name": "Python 3"
    }
  },
  "cells": [
    {
      "cell_type": "markdown",
      "metadata": {
        "id": "view-in-github",
        "colab_type": "text"
      },
      "source": [
        "<a href=\"https://colab.research.google.com/github/Kuldeep995/Machine_Learning/blob/master/1801093MLassignment6.ipynb\" target=\"_parent\"><img src=\"https://colab.research.google.com/assets/colab-badge.svg\" alt=\"Open In Colab\"/></a>"
      ]
    },
    {
      "cell_type": "code",
      "metadata": {
        "id": "hBtclZXGzgUO",
        "outputId": "afd62461-e3be-447c-c310-6d67352495f5",
        "colab": {
          "base_uri": "https://localhost:8080/",
          "height": 202
        }
      },
      "source": [
        "!wget 'https://archive.ics.uci.edu/ml/machine-learning-databases/iris/iris.data'"
      ],
      "execution_count": null,
      "outputs": [
        {
          "output_type": "stream",
          "text": [
            "--2020-10-25 17:34:45--  https://archive.ics.uci.edu/ml/machine-learning-databases/iris/iris.data\n",
            "Resolving archive.ics.uci.edu (archive.ics.uci.edu)... 128.195.10.252\n",
            "Connecting to archive.ics.uci.edu (archive.ics.uci.edu)|128.195.10.252|:443... connected.\n",
            "HTTP request sent, awaiting response... 200 OK\n",
            "Length: 4551 (4.4K) [application/x-httpd-php]\n",
            "Saving to: ‘iris.data’\n",
            "\n",
            "iris.data           100%[===================>]   4.44K  --.-KB/s    in 0s      \n",
            "\n",
            "2020-10-25 17:34:46 (110 MB/s) - ‘iris.data’ saved [4551/4551]\n",
            "\n"
          ],
          "name": "stdout"
        }
      ]
    },
    {
      "cell_type": "markdown",
      "metadata": {
        "id": "johL_rLt0n4O"
      },
      "source": [
        "**Implementation of Single Layer Perceptron**"
      ]
    },
    {
      "cell_type": "code",
      "metadata": {
        "id": "bBiwgw8i1LhY"
      },
      "source": [
        "import pandas as pd\n",
        "from sklearn.model_selection import train_test_split\n",
        "import numpy as np\n",
        "import matplotlib.pyplot as plt"
      ],
      "execution_count": null,
      "outputs": []
    },
    {
      "cell_type": "code",
      "metadata": {
        "id": "G3PSAsvS1UfF"
      },
      "source": [
        "def normalize(df):\n",
        "    result = df.copy()\n",
        "    for feature_name in df.columns:\n",
        "        result[feature_name] = (df[feature_name] - df[feature_name].min()) / (df[feature_name].max() - df[feature_name].min())\n",
        "    return result"
      ],
      "execution_count": null,
      "outputs": []
    },
    {
      "cell_type": "code",
      "metadata": {
        "id": "HRRGOkiR1Vnz"
      },
      "source": [
        "col_names=['A','B','C','D','target']\n",
        "data=pd.read_csv('iris.data',names=col_names)\n",
        "#loading data and read class label into different varible\n",
        "features=data[['A','B','C','D']]\n",
        "classes=data[['target']]"
      ],
      "execution_count": null,
      "outputs": []
    },
    {
      "cell_type": "code",
      "metadata": {
        "id": "l0D5Kegj1V0T",
        "outputId": "0fbae63c-66e1-46ad-e823-9d4d7b0f501b",
        "colab": {
          "base_uri": "https://localhost:8080/",
          "height": 118
        }
      },
      "source": [
        "flower={'Iris-setosa':1,'Iris-versicolor':2,'Iris-virginica':3}\n",
        "features=normalize(features)\n",
        "features.insert(loc=0,column='A1',value=1)\n",
        "#mappinf the taget class values with 1,2,3 for different flower\n",
        "classes['target']=classes['target'].map(flower)"
      ],
      "execution_count": null,
      "outputs": [
        {
          "output_type": "stream",
          "text": [
            "/usr/local/lib/python3.6/dist-packages/ipykernel_launcher.py:5: SettingWithCopyWarning: \n",
            "A value is trying to be set on a copy of a slice from a DataFrame.\n",
            "Try using .loc[row_indexer,col_indexer] = value instead\n",
            "\n",
            "See the caveats in the documentation: https://pandas.pydata.org/pandas-docs/stable/user_guide/indexing.html#returning-a-view-versus-a-copy\n",
            "  \"\"\"\n"
          ],
          "name": "stderr"
        }
      ]
    },
    {
      "cell_type": "code",
      "metadata": {
        "id": "_rI50cAr1at8"
      },
      "source": [
        "def accu(X,Y): #calculating accuracy \n",
        "  z=0\n",
        "  for i,j in zip(X,Y):\n",
        "    if i==j:\n",
        "      z+=1\n",
        "  return z/len(Y)*100\n",
        "\n",
        "def sigmoid(x): #sigmoid function\n",
        "    pred= 1/(1+np.exp(-x))\n",
        "    pre=[]\n",
        "    \n",
        "    for i in pred.copy():\n",
        "      if(i>=0 and i<=0.33):\n",
        "        z=1\n",
        "      elif(i>0.33 and i<=0.66):\n",
        "        z=2\n",
        "      elif(i>0.66):\n",
        "        z=3\n",
        "      pre.append(z)\n",
        "    return pre\n",
        "def SLP(X,Y,iter,alpha,weights): #traing model as single layer with single neuron will behave as gradient descent \n",
        "  for _ in range(iter):\n",
        "    pred=np.array(sigmoid(X@weights))   #forward propagation\n",
        "    weights=weights-(alpha)*(np.sum(X*(pred-Y).reshape(-1,1),axis=0))  #updating weights with backpropagation\n",
        "  return weights  "
      ],
      "execution_count": null,
      "outputs": []
    },
    {
      "cell_type": "code",
      "metadata": {
        "id": "ztSKDgUw1q97",
        "outputId": "d5a78b9c-9850-4a99-8405-818e2481ea5e",
        "colab": {
          "base_uri": "https://localhost:8080/",
          "height": 319
        }
      },
      "source": [
        "z=1\n",
        "df=[]\n",
        "per=10\n",
        "for _ in range(6): #train model for randomly x% testset and remaing train set \n",
        "  z-=0.1\n",
        "  tea=[]\n",
        "  tra=[]\n",
        "  for corr in range(10):  #Compute training and testing accuracy using SLP for 10 independent simulations\n",
        "\n",
        "    X_train, X_test, y_train, y_test = train_test_split(features, classes, test_size=z,stratify=classes['target'])\n",
        "    weights = np.array([round(np.random.uniform(low=-1,high=1),2) for _ in range(5)])\n",
        "    weights=weights.T\n",
        "    X_train=X_train.to_numpy()\n",
        "    Y_train=y_train['target'].ravel()\n",
        "    weights=SLP(X_train,Y_train,1000,0.01,weights)\n",
        "    X_T=X_test.to_numpy()\n",
        "    TEA=round(accu(sigmoid(X_T@weights),y_test['target'].ravel()),2)\n",
        "    TRA=round(accu(sigmoid(X_train@weights),Y_train.ravel()),2)\n",
        "    tea.append(TEA)\n",
        "    tra.append(TRA)\n",
        "  TEA=sum(tea)/len(tea)\n",
        "  TRA=sum(tra)/len(tra)\n",
        "  print(\"Accuracy for test size {}%:\".format(z*100))\n",
        "  print(\"test accuracy\",TEA)\n",
        "  print(\"train accuracy\",TRA)\n",
        "  \n",
        "  df.append([per,TRA,TEA])\n",
        "  per+=10"
      ],
      "execution_count": null,
      "outputs": [
        {
          "output_type": "stream",
          "text": [
            "Accuracy for test size 90.0%:\n",
            "test accuracy 86.37\n",
            "train accuracy 100.0\n",
            "Accuracy for test size 80.0%:\n",
            "test accuracy 92.25\n",
            "train accuracy 99.667\n",
            "Accuracy for test size 70.0%:\n",
            "test accuracy 93.869\n",
            "train accuracy 99.546\n",
            "Accuracy for test size 60.00000000000001%:\n",
            "test accuracy 94.72599999999998\n",
            "train accuracy 99.83099999999999\n",
            "Accuracy for test size 50.000000000000014%:\n",
            "test accuracy 95.52699999999999\n",
            "train accuracy 98.92\n",
            "Accuracy for test size 40.000000000000014%:\n",
            "test accuracy 95.9\n",
            "train accuracy 98.203\n"
          ],
          "name": "stdout"
        }
      ]
    },
    {
      "cell_type": "code",
      "metadata": {
        "id": "CSIxVOaz1rGQ",
        "outputId": "c3fb87b6-4b54-4363-8726-be8d464c7448",
        "colab": {
          "base_uri": "https://localhost:8080/",
          "height": 134
        }
      },
      "source": [
        "result=pd.DataFrame(df,columns=['random data(in %)', 'train accuracy','test accuracy'])\n",
        "result.to_csv('results.csv')\n",
        "print(result)"
      ],
      "execution_count": null,
      "outputs": [
        {
          "output_type": "stream",
          "text": [
            "   random data(in %)  train accuracy  test accuracy\n",
            "0                 10         100.000         86.370\n",
            "1                 20          99.667         92.250\n",
            "2                 30          99.546         93.869\n",
            "3                 40          99.831         94.726\n",
            "4                 50          98.920         95.527\n",
            "5                 60          98.203         95.900\n"
          ],
          "name": "stdout"
        }
      ]
    },
    {
      "cell_type": "code",
      "metadata": {
        "id": "H8RfV6Ff1xCh",
        "outputId": "85d9ee2f-4164-496c-fcc7-fb1a74624432",
        "colab": {
          "base_uri": "https://localhost:8080/",
          "height": 312
        }
      },
      "source": [
        "ax=plt.gca()\n",
        "result.plot(x='random data(in %)',y='train accuracy',color='yellow',xlabel='random data in percentage',ylabel='accuracy',ax=ax,kind='line')\n",
        "result.plot(x='random data(in %)',y='test accuracy',color='black',title='data vs accuracy plot',ax=ax,kind='line')\n",
        "plt.show()\n",
        "plt.savefig('fig.png')"
      ],
      "execution_count": null,
      "outputs": [
        {
          "output_type": "display_data",
          "data": {
            "image/png": "[encoded data removed]",
            "text/plain": [
              "<Figure size 432x288 with 1 Axes>"
            ]
          },
          "metadata": {
            "tags": [],
            "needs_background": "light"
          }
        },
        {
          "output_type": "display_data",
          "data": {
            "text/plain": [
              "<Figure size 432x288 with 0 Axes>"
            ]
          },
          "metadata": {
            "tags": []
          }
        }
      ]
    },
    {
      "cell_type": "markdown",
      "metadata": {
        "id": "Y4kO4O3716YC"
      },
      "source": [
        "**SLP** **with one vs all**"
      ]
    },
    {
      "cell_type": "code",
      "metadata": {
        "id": "GCHIMaJ219bY",
        "outputId": "de348860-9a68-4a67-bd43-19b836315ec5",
        "colab": {
          "base_uri": "https://localhost:8080/",
          "height": 195
        }
      },
      "source": [
        "col=['A','B','C','D','class']\n",
        "dataset=pd.read_csv('iris.data',names=col) #load dataset\n",
        "def normalize(df): #nomralising\n",
        "    result = df.copy()\n",
        "    for feature_name in df.columns:\n",
        "        result[feature_name] = (df[feature_name] - df[feature_name].min()) / (df[feature_name].max() - df[feature_name].min())\n",
        "    return result\n",
        "dat=dataset\n",
        "mapp={'Iris-setosa':0,'Iris-versicolor':1,'Iris-virginica':2}\n",
        "dat=pd.get_dummies(dat['class'],columns=['types'])  #one hot encoding \n",
        "data=dataset.join(dat) #different class and features\n",
        "data.head()"
      ],
      "execution_count": null,
      "outputs": [
        {
          "output_type": "execute_result",
          "data": {
            "text/html": [
              "<div>\n",
              "<style scoped>\n",
              "    .dataframe tbody tr th:only-of-type {\n",
              "        vertical-align: middle;\n",
              "    }\n",
              "\n",
              "    .dataframe tbody tr th {\n",
              "        vertical-align: top;\n",
              "    }\n",
              "\n",
              "    .dataframe thead th {\n",
              "        text-align: right;\n",
              "    }\n",
              "</style>\n",
              "<table border=\"1\" class=\"dataframe\">\n",
              "  <thead>\n",
              "    <tr style=\"text-align: right;\">\n",
              "      <th></th>\n",
              "      <th>A</th>\n",
              "      <th>B</th>\n",
              "      <th>C</th>\n",
              "      <th>D</th>\n",
              "      <th>class</th>\n",
              "      <th>Iris-setosa</th>\n",
              "      <th>Iris-versicolor</th>\n",
              "      <th>Iris-virginica</th>\n",
              "    </tr>\n",
              "  </thead>\n",
              "  <tbody>\n",
              "    <tr>\n",
              "      <th>0</th>\n",
              "      <td>5.1</td>\n",
              "      <td>3.5</td>\n",
              "      <td>1.4</td>\n",
              "      <td>0.2</td>\n",
              "      <td>Iris-setosa</td>\n",
              "      <td>1</td>\n",
              "      <td>0</td>\n",
              "      <td>0</td>\n",
              "    </tr>\n",
              "    <tr>\n",
              "      <th>1</th>\n",
              "      <td>4.9</td>\n",
              "      <td>3.0</td>\n",
              "      <td>1.4</td>\n",
              "      <td>0.2</td>\n",
              "      <td>Iris-setosa</td>\n",
              "      <td>1</td>\n",
              "      <td>0</td>\n",
              "      <td>0</td>\n",
              "    </tr>\n",
              "    <tr>\n",
              "      <th>2</th>\n",
              "      <td>4.7</td>\n",
              "      <td>3.2</td>\n",
              "      <td>1.3</td>\n",
              "      <td>0.2</td>\n",
              "      <td>Iris-setosa</td>\n",
              "      <td>1</td>\n",
              "      <td>0</td>\n",
              "      <td>0</td>\n",
              "    </tr>\n",
              "    <tr>\n",
              "      <th>3</th>\n",
              "      <td>4.6</td>\n",
              "      <td>3.1</td>\n",
              "      <td>1.5</td>\n",
              "      <td>0.2</td>\n",
              "      <td>Iris-setosa</td>\n",
              "      <td>1</td>\n",
              "      <td>0</td>\n",
              "      <td>0</td>\n",
              "    </tr>\n",
              "    <tr>\n",
              "      <th>4</th>\n",
              "      <td>5.0</td>\n",
              "      <td>3.6</td>\n",
              "      <td>1.4</td>\n",
              "      <td>0.2</td>\n",
              "      <td>Iris-setosa</td>\n",
              "      <td>1</td>\n",
              "      <td>0</td>\n",
              "      <td>0</td>\n",
              "    </tr>\n",
              "  </tbody>\n",
              "</table>\n",
              "</div>"
            ],
            "text/plain": [
              "     A    B    C  ...  Iris-setosa Iris-versicolor  Iris-virginica\n",
              "0  5.1  3.5  1.4  ...            1               0               0\n",
              "1  4.9  3.0  1.4  ...            1               0               0\n",
              "2  4.7  3.2  1.3  ...            1               0               0\n",
              "3  4.6  3.1  1.5  ...            1               0               0\n",
              "4  5.0  3.6  1.4  ...            1               0               0\n",
              "\n",
              "[5 rows x 8 columns]"
            ]
          },
          "metadata": {
            "tags": []
          },
          "execution_count": 16
        }
      ]
    },
    {
      "cell_type": "code",
      "metadata": {
        "id": "DbLGmaIk2E5x"
      },
      "source": [
        "def sigmoid(Z): #sigmoid function\n",
        "  return 1/(1+np.exp(-Z))\n",
        "def mapp(A):  #mapping maximum value in the output of one vs all for their respective class\n",
        "  arr=[]\n",
        "  for row in A:\n",
        "    c=[]\n",
        "    for col in row:\n",
        "      if col>=0.5:\n",
        "        c.append(1)\n",
        "      else:\n",
        "        c.append(0)\n",
        "    arr.append(c)\n",
        "  arr=np.array(arr)\n",
        "  return arr  \n",
        "def relu(Z):  #relu activation for hidden layers\n",
        "  return np.maximum(0,Z)\n",
        "\n",
        "def sigmoid_derivative(A,dA): #derivation of sigmoid function \n",
        "  return dA*A*(1-A)\n",
        "def relu_derivative(dA,Z):  #derivation of relu for back propagation\n",
        "  dZ=np.array(dA,copy=True)\n",
        "  dZ[Z<=0]=0\n",
        "  return dZ\n",
        "def predict(param,X,Y,length): #prediction of model\n",
        "  A=X\n",
        "  for i in range(length):\n",
        "    Z=params[\"W\"+str(i+1)]@A+params[\"b\"+str(i+1)]\n",
        "    if i+1!=length:\n",
        "      A=relu(Z)\n",
        "  Z=Z.T\n",
        "  Z=(Z == Z.max(axis=1)[:,None]).astype(int)\n",
        "  k=np.sum(np.all(Z==Y,axis=1))\n",
        "  return k/len(Y)*100"
      ],
      "execution_count": null,
      "outputs": []
    },
    {
      "cell_type": "code",
      "metadata": {
        "id": "8TrUJdJN2Hc9"
      },
      "source": [
        "def deriv(derivative,dZ,pramams,length):  #backpropagation for getting derivation of Weights,bias,Z(W*A+b),A=g(Z)[activation]\n",
        "  derivative[\"dZ\"+str(length)]=dZ\n",
        "  A_p=params[\"A\"+str(length-1)]\n",
        "  dW=(1/A_p.shape[1])*np.dot(dZ,A_p.T)\n",
        "  db=(1/A_p.shape[1])*np.sum(dZ,axis=1,keepdims=True)\n",
        "  dA_p=params[\"W\"+str(length)].T@dZ\n",
        "  derivative[\"dW\"+str(length)]=dW\n",
        "  derivative[\"db\"+str(length)]=db\n",
        "  if length-1!=0:\n",
        "    derivative[\"dA\"+str(length-1)]=dA_p"
      ],
      "execution_count": null,
      "outputs": []
    },
    {
      "cell_type": "code",
      "metadata": {
        "id": "6TRlg5kh2HgU"
      },
      "source": [
        "def MLP(lr,iter,X,Y,para,length): #traing model\n",
        " \n",
        "  for _ in range(iter):\n",
        "    A=X\n",
        "    para[\"A0\"]=A\n",
        "    for l in range(1,length):  #forward propagation\n",
        "      Z=para[\"W\"+str(l)]@A+para[\"b\"+str(l)]\n",
        "      A=relu(Z)\n",
        "      para[\"Z\"+str(l)]=Z\n",
        "      para[\"A\"+str(l)]=A\n",
        "\n",
        "    Z=para[\"W\"+str(length)]@A+para[\"b\"+str(length)]\n",
        "    A=sigmoid(Z)   #output layer having 3 neuron for one vs all model\n",
        "    para[\"Z\"+str(length)]=Z\n",
        "    para[\"A\"+str(length)]=A\n",
        "    A=mapp(A)\n",
        "    derivative={}\n",
        "    dZ=A-Y  #error\n",
        "    deriv(derivative,dZ,para,length)   #back propagation to calcuale all derivative of weights,bias,Z,A\n",
        "    for l in reversed(range(length-1)): # #back propagation for hidden layer\n",
        "      dZ=relu_derivative(derivative[\"dA\"+str(l+1)],para[\"Z\"+str(l+1)])\n",
        "      deriv(derivative,dZ,para,l+1)  \n",
        "\n",
        "    for i in range(length): #updating weights\n",
        "      para[\"W\"+str(i+1)]-=lr*derivative[\"dW\"+str(i+1)]\n",
        "      para[\"b\"+str(i+1)]-=lr*derivative[\"db\"+str(i+1)]\n",
        "  return para"
      ],
      "execution_count": null,
      "outputs": []
    },
    {
      "cell_type": "code",
      "metadata": {
        "id": "4tHxdx_72MpE",
        "outputId": "58d4a801-cc44-4471-b4d3-ae3ac6ede8a0",
        "colab": {
          "base_uri": "https://localhost:8080/",
          "height": 782
        }
      },
      "source": [
        "z=1\n",
        "df=[]\n",
        "per=10\n",
        "layers_neuron=[]\n",
        "f=int(input(\"Enter the number of features:\"))\n",
        "layers_neuron.append(f)\n",
        "x=0\n",
        "\n",
        "for i in range(x):\n",
        "  y=int(input(\"enter the number of neurons in layer {}:\".format(i+1)))\n",
        "  layers_neuron.append(y)\n",
        "layers_neuron.append(len(dataset['class'].unique()))\n",
        "lr=float(input(\"enter the learning rate:\"))\n",
        "epoch=int(input(\"enter the epoch:\"))\n",
        "for _ in range(6): #computing accuracy for different size of data\n",
        "  z-=0.1\n",
        "  tea=[]\n",
        "  tra=[]\n",
        "  for cross in range(10): #Compute training and testing accuracy using MLP for 10 independent simulations\n",
        "    \n",
        "    X_tr, X_te, y_train, y_test = train_test_split(data.iloc[:,:4], data.iloc[:,-3:], test_size=z)\n",
        "\n",
        "    X_train=normalize(X_tr)\n",
        "    X_test=normalize(X_te)\n",
        "    X_train=X_train.to_numpy()\n",
        "    X_test=X_test.to_numpy()\n",
        "    y_train=y_train.to_numpy()\n",
        "    y_test=y_test.to_numpy()\n",
        "    params={} \n",
        "    for i in range(1,len(layers_neuron)):  #initializing weights for layers\n",
        "      params[\"W\"+str(i)]=np.random.rand(layers_neuron[i],layers_neuron[i-1])\n",
        "      params[\"b\"+str(i)]=np.ones((layers_neuron[i],1))\n",
        "    length=len(params)//2   #number of layers\n",
        "    param=MLP(lr,epoch,X_train.T,y_train.T,params,length)\n",
        "    \n",
        "    TEA=round(predict(param,X_test.T,y_test,length),2)\n",
        "    TRA=round(predict(param,X_train.T,y_train,length),2)\n",
        "    tea.append(TEA)\n",
        "    tra.append(TRA)\n",
        "  TEA=sum(tea)/len(tea)\n",
        "  TRA=sum(tra)/len(tra)\n",
        "  print(\"Accuracy for test size {}%:\".format(z*100))\n",
        "  print(\"test accuracy \",TEA,\"%\")\n",
        "  print(\"train accuracy \",TRA,\"%\")\n",
        "  \n",
        "  df.append([per,TRA,TEA])\n",
        "  per+=10\n",
        "\n",
        "result=pd.DataFrame(df,columns=['random data(in %)', 'train accuracy','test accuracy'])\n",
        "result.to_csv('results_slp_onevall.csv')  # saving model in excel sheet\n",
        "print(result)\n",
        "ax=plt.gca()\n",
        "result.plot(x='random data(in %)',y='train accuracy',color='yellow',xlabel='random data in percentage',ylabel='accuracy',ax=ax,kind='line')\n",
        "result.plot(x='random data(in %)',y='test accuracy',color='black',title='data vs accuracy plot',ax=ax,kind='line')\n",
        "plt.show()  #plot the accuracy with data size\n",
        "plt.savefig('fig1.png')  #saving model"
      ],
      "execution_count": null,
      "outputs": [
        {
          "output_type": "stream",
          "text": [
            "Enter the number of features:4\n",
            "enter the learning rate:0.01\n",
            "enter the epoch:1500\n",
            "Accuracy for test size 90.0%:\n",
            "test accuracy  68.296 %\n",
            "train accuracy  90.666 %\n",
            "Accuracy for test size 80.0%:\n",
            "test accuracy  86.08500000000001 %\n",
            "train accuracy  91.66499999999999 %\n",
            "Accuracy for test size 70.0%:\n",
            "test accuracy  83.39800000000001 %\n",
            "train accuracy  90.68100000000001 %\n",
            "Accuracy for test size 60.00000000000001%:\n",
            "test accuracy  90.768 %\n",
            "train accuracy  94.40800000000002 %\n",
            "Accuracy for test size 50.000000000000014%:\n",
            "test accuracy  87.23799999999999 %\n",
            "train accuracy  91.48700000000001 %\n",
            "Accuracy for test size 40.000000000000014%:\n",
            "test accuracy  86.556 %\n",
            "train accuracy  92.47299999999998 %\n",
            "   random data(in %)  train accuracy  test accuracy\n",
            "0                 10          90.666         68.296\n",
            "1                 20          91.665         86.085\n",
            "2                 30          90.681         83.398\n",
            "3                 40          94.408         90.768\n",
            "4                 50          91.487         87.238\n",
            "5                 60          92.473         86.556\n"
          ],
          "name": "stdout"
        },
        {
          "output_type": "display_data",
          "data": {
            "image/png": "[encoded data removed]",
            "text/plain": [
              "<Figure size 432x288 with 1 Axes>"
            ]
          },
          "metadata": {
            "tags": [],
            "needs_background": "light"
          }
        },
        {
          "output_type": "display_data",
          "data": {
            "text/plain": [
              "<Figure size 432x288 with 0 Axes>"
            ]
          },
          "metadata": {
            "tags": []
          }
        }
      ]
    },
    {
      "cell_type": "markdown",
      "metadata": {
        "id": "ZE_Xe2482T1I"
      },
      "source": [
        "**MLP**"
      ]
    },
    {
      "cell_type": "code",
      "metadata": {
        "id": "InAdzEmG2NJU"
      },
      "source": [
        "col=['A','B','C','D','class']\n",
        "dataset=pd.read_csv('iris.data',names=col) #load dataset"
      ],
      "execution_count": null,
      "outputs": []
    },
    {
      "cell_type": "code",
      "metadata": {
        "id": "2N0Wbwnf2X-6"
      },
      "source": [
        "def normalize(df): #nomralising\n",
        "    result = df.copy()\n",
        "    for feature_name in df.columns:\n",
        "        result[feature_name] = (df[feature_name] - df[feature_name].min()) / (df[feature_name].max() - df[feature_name].min())\n",
        "    return result"
      ],
      "execution_count": null,
      "outputs": []
    },
    {
      "cell_type": "code",
      "metadata": {
        "id": "BXajEOHb2YGl",
        "outputId": "2761ef41-89c4-4951-9935-85f5e917b85b",
        "colab": {
          "base_uri": "https://localhost:8080/",
          "height": 195
        }
      },
      "source": [
        "dat=dataset\n",
        "mapp={'Iris-setosa':0,'Iris-versicolor':1,'Iris-virginica':2}\n",
        "dat=pd.get_dummies(dat['class'],columns=['types'])  #one hot encoding \n",
        "data=dataset.join(dat) #different class and features\n",
        "data.head()"
      ],
      "execution_count": null,
      "outputs": [
        {
          "output_type": "execute_result",
          "data": {
            "text/html": [
              "<div>\n",
              "<style scoped>\n",
              "    .dataframe tbody tr th:only-of-type {\n",
              "        vertical-align: middle;\n",
              "    }\n",
              "\n",
              "    .dataframe tbody tr th {\n",
              "        vertical-align: top;\n",
              "    }\n",
              "\n",
              "    .dataframe thead th {\n",
              "        text-align: right;\n",
              "    }\n",
              "</style>\n",
              "<table border=\"1\" class=\"dataframe\">\n",
              "  <thead>\n",
              "    <tr style=\"text-align: right;\">\n",
              "      <th></th>\n",
              "      <th>A</th>\n",
              "      <th>B</th>\n",
              "      <th>C</th>\n",
              "      <th>D</th>\n",
              "      <th>class</th>\n",
              "      <th>Iris-setosa</th>\n",
              "      <th>Iris-versicolor</th>\n",
              "      <th>Iris-virginica</th>\n",
              "    </tr>\n",
              "  </thead>\n",
              "  <tbody>\n",
              "    <tr>\n",
              "      <th>0</th>\n",
              "      <td>5.1</td>\n",
              "      <td>3.5</td>\n",
              "      <td>1.4</td>\n",
              "      <td>0.2</td>\n",
              "      <td>Iris-setosa</td>\n",
              "      <td>1</td>\n",
              "      <td>0</td>\n",
              "      <td>0</td>\n",
              "    </tr>\n",
              "    <tr>\n",
              "      <th>1</th>\n",
              "      <td>4.9</td>\n",
              "      <td>3.0</td>\n",
              "      <td>1.4</td>\n",
              "      <td>0.2</td>\n",
              "      <td>Iris-setosa</td>\n",
              "      <td>1</td>\n",
              "      <td>0</td>\n",
              "      <td>0</td>\n",
              "    </tr>\n",
              "    <tr>\n",
              "      <th>2</th>\n",
              "      <td>4.7</td>\n",
              "      <td>3.2</td>\n",
              "      <td>1.3</td>\n",
              "      <td>0.2</td>\n",
              "      <td>Iris-setosa</td>\n",
              "      <td>1</td>\n",
              "      <td>0</td>\n",
              "      <td>0</td>\n",
              "    </tr>\n",
              "    <tr>\n",
              "      <th>3</th>\n",
              "      <td>4.6</td>\n",
              "      <td>3.1</td>\n",
              "      <td>1.5</td>\n",
              "      <td>0.2</td>\n",
              "      <td>Iris-setosa</td>\n",
              "      <td>1</td>\n",
              "      <td>0</td>\n",
              "      <td>0</td>\n",
              "    </tr>\n",
              "    <tr>\n",
              "      <th>4</th>\n",
              "      <td>5.0</td>\n",
              "      <td>3.6</td>\n",
              "      <td>1.4</td>\n",
              "      <td>0.2</td>\n",
              "      <td>Iris-setosa</td>\n",
              "      <td>1</td>\n",
              "      <td>0</td>\n",
              "      <td>0</td>\n",
              "    </tr>\n",
              "  </tbody>\n",
              "</table>\n",
              "</div>"
            ],
            "text/plain": [
              "     A    B    C  ...  Iris-setosa Iris-versicolor  Iris-virginica\n",
              "0  5.1  3.5  1.4  ...            1               0               0\n",
              "1  4.9  3.0  1.4  ...            1               0               0\n",
              "2  4.7  3.2  1.3  ...            1               0               0\n",
              "3  4.6  3.1  1.5  ...            1               0               0\n",
              "4  5.0  3.6  1.4  ...            1               0               0\n",
              "\n",
              "[5 rows x 8 columns]"
            ]
          },
          "metadata": {
            "tags": []
          },
          "execution_count": 27
        }
      ]
    },
    {
      "cell_type": "code",
      "metadata": {
        "id": "ePfCWBBx2ckO"
      },
      "source": [
        "def sigmoid(Z): #sigmoid function\n",
        "  return 1/(1+np.exp(-Z))\n",
        "def mapp(A):  #mapping maximum value in the output of one vs all for their respective class\n",
        "  arr=[]\n",
        "  for row in A:\n",
        "    c=[]\n",
        "    for col in row:\n",
        "      if col>=0.5:\n",
        "        c.append(1)\n",
        "      else:\n",
        "        c.append(0)\n",
        "    arr.append(c)\n",
        "  arr=np.array(arr)\n",
        "  return arr  \n",
        "def relu(Z):  #relu activation for hidden layers\n",
        "  return np.maximum(0,Z)\n",
        "\n",
        "def sigmoid_derivative(A,dA): #derivation of sigmoid function \n",
        "  return dA*A*(1-A)\n",
        "def relu_derivative(dA,Z):  #derivation of relu for back propagation\n",
        "  dZ=np.array(dA,copy=True)\n",
        "  dZ[Z<=0]=0\n",
        "  return dZ\n",
        "def predict(param,X,Y,length): #prediction of model\n",
        "  A=X\n",
        "  for i in range(length):\n",
        "    Z=params[\"W\"+str(i+1)]@A+params[\"b\"+str(i+1)]\n",
        "    if i+1!=length:\n",
        "      A=relu(Z)\n",
        "  Z=Z.T\n",
        "  Z=(Z == Z.max(axis=1)[:,None]).astype(int)\n",
        "  k=np.sum(np.all(Z==Y,axis=1))\n",
        "  return k/len(Y)*100"
      ],
      "execution_count": null,
      "outputs": []
    },
    {
      "cell_type": "code",
      "metadata": {
        "id": "X1Ff6dxB2fNM"
      },
      "source": [
        "def deriv(derivative,dZ,pramams,length):  #backpropagation for getting derivation of Weights,bias,Z(W*A+b),A=g(Z)[activation]\n",
        "  derivative[\"dZ\"+str(length)]=dZ\n",
        "  A_p=params[\"A\"+str(length-1)]\n",
        "  dW=(1/A_p.shape[1])*np.dot(dZ,A_p.T)\n",
        "  db=(1/A_p.shape[1])*np.sum(dZ,axis=1,keepdims=True)\n",
        "  dA_p=params[\"W\"+str(length)].T@dZ\n",
        "  derivative[\"dW\"+str(length)]=dW\n",
        "  derivative[\"db\"+str(length)]=db\n",
        "  if length-1!=0:\n",
        "    derivative[\"dA\"+str(length-1)]=dA_p"
      ],
      "execution_count": null,
      "outputs": []
    },
    {
      "cell_type": "code",
      "metadata": {
        "id": "GY5qKBXd2fQn"
      },
      "source": [
        "def MLP(lr,iter,X,Y,para,length): #traing model\n",
        " \n",
        "  for _ in range(iter):\n",
        "    A=X\n",
        "    para[\"A0\"]=A\n",
        "    for l in range(1,length):  #forward propagation\n",
        "      Z=para[\"W\"+str(l)]@A+para[\"b\"+str(l)]\n",
        "      A=relu(Z)\n",
        "      para[\"Z\"+str(l)]=Z\n",
        "      para[\"A\"+str(l)]=A\n",
        "\n",
        "    Z=para[\"W\"+str(length)]@A+para[\"b\"+str(length)]\n",
        "    A=sigmoid(Z)   #output layer having 3 neuron for one vs all model\n",
        "    para[\"Z\"+str(length)]=Z\n",
        "    para[\"A\"+str(length)]=A\n",
        "    A=mapp(A)\n",
        "    derivative={}\n",
        "    dZ=A-Y  #error\n",
        "    deriv(derivative,dZ,para,length)   #back propagation to calcuale all derivative of weights,bias,Z,A\n",
        "    for l in reversed(range(length-1)): # #back propagation for hidden layer\n",
        "      dZ=relu_derivative(derivative[\"dA\"+str(l+1)],para[\"Z\"+str(l+1)])\n",
        "      deriv(derivative,dZ,para,l+1)  \n",
        "\n",
        "    for i in range(length): #updating weights\n",
        "      para[\"W\"+str(i+1)]-=lr*derivative[\"dW\"+str(i+1)]\n",
        "      para[\"b\"+str(i+1)]-=lr*derivative[\"db\"+str(i+1)]\n",
        "  return para"
      ],
      "execution_count": null,
      "outputs": []
    },
    {
      "cell_type": "code",
      "metadata": {
        "id": "hOvdBptJ2kDO",
        "outputId": "8e8633ed-bfeb-4969-92a0-78f123897834",
        "colab": {
          "base_uri": "https://localhost:8080/",
          "height": 833
        }
      },
      "source": [
        "z=1\n",
        "df=[]\n",
        "per=10\n",
        "layers_neuron=[]\n",
        "f=int(input(\"Enter the number of features:\"))\n",
        "layers_neuron.append(f)\n",
        "x=int(input('Enter the nuber of hidden layer u want:'))\n",
        "\n",
        "for i in range(x):\n",
        "  y=int(input(\"enter the number of neurons in layer {}:\".format(i+1)))\n",
        "  layers_neuron.append(y)\n",
        "layers_neuron.append(len(dataset['class'].unique()))\n",
        "lr=float(input(\"enter the learning rate:\"))\n",
        "epoch=int(input(\"enter the epoch:\"))\n",
        "for _ in range(6): #computing accuracy for different size of data\n",
        "  z-=0.1\n",
        "  tea=[]\n",
        "  tra=[]\n",
        "  for cross in range(10): #Compute training and testing accuracy using MLP for 10 independent simulations\n",
        "    \n",
        "    X_tr, X_te, y_train, y_test = train_test_split(data.iloc[:,:4], data.iloc[:,-3:], test_size=z)\n",
        "\n",
        "    X_train=normalize(X_tr)\n",
        "    X_test=normalize(X_te)\n",
        "    X_train=X_train.to_numpy()\n",
        "    X_test=X_test.to_numpy()\n",
        "    y_train=y_train.to_numpy()\n",
        "    y_test=y_test.to_numpy()\n",
        "    params={} \n",
        "    for i in range(1,len(layers_neuron)):  #initializing weights for layers\n",
        "      params[\"W\"+str(i)]=np.random.rand(layers_neuron[i],layers_neuron[i-1])\n",
        "      params[\"b\"+str(i)]=np.ones((layers_neuron[i],1))\n",
        "    length=len(params)//2   #number of layers\n",
        "    param=MLP(lr,epoch,X_train.T,y_train.T,params,length)\n",
        "    \n",
        "    TEA=round(predict(param,X_test.T,y_test,length),2)\n",
        "    TRA=round(predict(param,X_train.T,y_train,length),2)\n",
        "    tea.append(TEA)\n",
        "    tra.append(TRA)\n",
        "  TEA=sum(tea)/len(tea)\n",
        "  TRA=sum(tra)/len(tra)\n",
        "  print(\"Accuracy for test size {}%:\".format(z*100))\n",
        "  print(\"test accuracy \",TEA,\"%\")\n",
        "  print(\"train accuracy \",TRA,\"%\")\n",
        "  \n",
        "  df.append([per,TRA,TEA])\n",
        "  per+=10\n",
        "\n",
        "result=pd.DataFrame(df,columns=['random data(in %)', 'train accuracy','test accuracy'])\n",
        "result.to_csv('results_MLP.csv')  # saving model in excel sheet\n",
        "print(result)\n",
        "ax=plt.gca()\n",
        "result.plot(x='random data(in %)',y='train accuracy',color='yellow',xlabel='random data in percentage',ylabel='accuracy',ax=ax,kind='line')\n",
        "result.plot(x='random data(in %)',y='test accuracy',color='black',title='data vs accuracy plot',ax=ax,kind='line')\n",
        "plt.show()  #plot the accuracy with data size\n",
        "plt.savefig('fig2.png')  #saving model"
      ],
      "execution_count": null,
      "outputs": [
        {
          "output_type": "stream",
          "text": [
            "Enter the number of features:4\n",
            "Enter the nuber of hidden layer u want:2\n",
            "enter the number of neurons in layer 1:6\n",
            "enter the number of neurons in layer 2:5\n",
            "enter the learning rate:0.1\n",
            "enter the epoch:1500\n",
            "Accuracy for test size 90.0%:\n",
            "test accuracy  88.74300000000002 %\n",
            "train accuracy  100.0 %\n",
            "Accuracy for test size 80.0%:\n",
            "test accuracy  91.167 %\n",
            "train accuracy  99.333 %\n",
            "Accuracy for test size 70.0%:\n",
            "test accuracy  91.79400000000001 %\n",
            "train accuracy  98.41 %\n",
            "Accuracy for test size 60.00000000000001%:\n",
            "test accuracy  94.06899999999999 %\n",
            "train accuracy  99.15299999999999 %\n",
            "Accuracy for test size 50.000000000000014%:\n",
            "test accuracy  93.423 %\n",
            "train accuracy  97.298 %\n",
            "Accuracy for test size 40.000000000000014%:\n",
            "test accuracy  95.244 %\n",
            "train accuracy  96.743 %\n",
            "   random data(in %)  train accuracy  test accuracy\n",
            "0                 10         100.000         88.743\n",
            "1                 20          99.333         91.167\n",
            "2                 30          98.410         91.794\n",
            "3                 40          99.153         94.069\n",
            "4                 50          97.298         93.423\n",
            "5                 60          96.743         95.244\n"
          ],
          "name": "stdout"
        },
        {
          "output_type": "display_data",
          "data": {
            "image/png": "[encoded data removed]",
            "text/plain": [
              "<Figure size 432x288 with 1 Axes>"
            ]
          },
          "metadata": {
            "tags": [],
            "needs_background": "light"
          }
        },
        {
          "output_type": "display_data",
          "data": {
            "text/plain": [
              "<Figure size 432x288 with 0 Axes>"
            ]
          },
          "metadata": {
            "tags": []
          }
        }
      ]
    }
  ]
}