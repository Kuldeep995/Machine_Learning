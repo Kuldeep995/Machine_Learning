{
  "nbformat": 4,
  "nbformat_minor": 0,
  "metadata": {
    "colab": {
      "name": "Assignment0.ipynb",
      "provenance": [],
      "collapsed_sections": [],
      "authorship_tag": "ABX9TyO6e1vHMfr/gdzAVQ7n/x6p",
      "include_colab_link": true
    },
    "kernelspec": {
      "name": "python3",
      "display_name": "Python 3"
    }
  },
  "cells": [
    {
      "cell_type": "markdown",
      "metadata": {
        "id": "view-in-github",
        "colab_type": "text"
      },
      "source": [
        "<a href=\"https://colab.research.google.com/github/Kuldeep995/Machine_Learning/blob/master/Assignment0.ipynb\" target=\"_parent\"><img src=\"https://colab.research.google.com/assets/colab-badge.svg\" alt=\"Open In Colab\"/></a>"
      ]
    },
    {
      "cell_type": "markdown",
      "metadata": {
        "id": "kVGhQX12JBDi",
        "colab_type": "text"
      },
      "source": [
        "This is Zeroth Assignment"
      ]
    },
    {
      "cell_type": "markdown",
      "metadata": {
        "id": "gK4_Pu7bL_Hx",
        "colab_type": "text"
      },
      "source": [
        "Sol 1."
      ]
    },
    {
      "cell_type": "code",
      "metadata": {
        "id": "nlRXpTBzLlBD",
        "colab_type": "code",
        "colab": {
          "base_uri": "https://localhost:8080/",
          "height": 67
        },
        "outputId": "f5b82375-d848-4a9c-e42c-98b118ddf62e"
      },
      "source": [
        "import sys\n",
        "print(\"python version used is:\")\n",
        "print(sys.version)"
      ],
      "execution_count": null,
      "outputs": [
        {
          "output_type": "stream",
          "text": [
            "python version used is:\n",
            "3.6.9 (default, Jul 17 2020, 12:50:27) \n",
            "[GCC 8.4.0]\n"
          ],
          "name": "stdout"
        }
      ]
    },
    {
      "cell_type": "markdown",
      "metadata": {
        "id": "GZMkPgvKMIql",
        "colab_type": "text"
      },
      "source": [
        "Sol 2.\n"
      ]
    },
    {
      "cell_type": "code",
      "metadata": {
        "id": "m_SXr0atML32",
        "colab_type": "code",
        "colab": {
          "base_uri": "https://localhost:8080/",
          "height": 50
        },
        "outputId": "efdb0b59-3b59-4401-c8e8-7120b2408797"
      },
      "source": [
        "import site\n",
        "print(\"located python site packages:\")\n",
        "print(site.getsitepackages())"
      ],
      "execution_count": null,
      "outputs": [
        {
          "output_type": "stream",
          "text": [
            "located python site packages:\n",
            "['/usr/local/lib/python3.6/dist-packages', '/usr/lib/python3/dist-packages', '/usr/lib/python3.6/dist-packages']\n"
          ],
          "name": "stdout"
        }
      ]
    },
    {
      "cell_type": "markdown",
      "metadata": {
        "id": "2pORB2LIMxSU",
        "colab_type": "text"
      },
      "source": [
        "Sol 3."
      ]
    },
    {
      "cell_type": "code",
      "metadata": {
        "id": "EmmK0sJHMzER",
        "colab_type": "code",
        "colab": {
          "base_uri": "https://localhost:8080/",
          "height": 50
        },
        "outputId": "82c85479-cce7-4770-ff37-0cddc5e74eff"
      },
      "source": [
        "import inspect, os\n",
        "print(inspect.getfile(inspect.currentframe()))\n",
        "print(os.path.dirname(os.path.abspath(inspect.getfile(inspect.currentframe()))))"
      ],
      "execution_count": null,
      "outputs": [
        {
          "output_type": "stream",
          "text": [
            "<ipython-input-2-999536cf70d4>\n",
            "/content\n"
          ],
          "name": "stdout"
        }
      ]
    },
    {
      "cell_type": "markdown",
      "metadata": {
        "id": "Jt-YJ-wtoI7q",
        "colab_type": "text"
      },
      "source": [
        "Sol 4."
      ]
    },
    {
      "cell_type": "code",
      "metadata": {
        "id": "LGiNPRGyNLJ-",
        "colab_type": "code",
        "colab": {
          "base_uri": "https://localhost:8080/",
          "height": 134
        },
        "outputId": "aca964d7-c728-4fe0-fdc8-3a3fb4f39549"
      },
      "source": [
        " import numpy as np\n",
        " A = np.round(np.random.rand(2,3)*10)\n",
        " b = np.round(np.random.rand(3,2)*10)\n",
        " C = A.dot(b)\n",
        " print(A)\n",
        " print(b)\n",
        "print(C)"
      ],
      "execution_count": null,
      "outputs": [
        {
          "output_type": "stream",
          "text": [
            "[[9. 2. 7.]\n",
            " [7. 8. 1.]]\n",
            "[[6. 6.]\n",
            " [2. 6.]\n",
            " [5. 4.]]\n",
            "[[93. 94.]\n",
            " [63. 94.]]\n"
          ],
          "name": "stdout"
        }
      ]
    },
    {
      "cell_type": "markdown",
      "metadata": {
        "id": "6zmokyQ7pEfe",
        "colab_type": "text"
      },
      "source": [
        "Sol 5."
      ]
    },
    {
      "cell_type": "code",
      "metadata": {
        "id": "zDplDTIqmlQ7",
        "colab_type": "code",
        "colab": {
          "base_uri": "https://localhost:8080/",
          "height": 386
        },
        "outputId": "2fc5e923-d711-4563-bc41-4307cd0412a6"
      },
      "source": [
        "import numpy as np\n",
        "C=0\n",
        "for x in range(2, 6):\n",
        "   A = np.round(np.random.rand(2,3)*10)\n",
        "   b = np.round(np.random.rand(3,2)*10)\n",
        "   C = C+A.dot(b)\n",
        "   print(A)\n",
        "   print(b)\n",
        "print(C/5)"
      ],
      "execution_count": null,
      "outputs": [
        {
          "output_type": "stream",
          "text": [
            "[[6. 0. 1.]\n",
            " [4. 2. 6.]]\n",
            "[[10.  7.]\n",
            " [ 3.  6.]\n",
            " [ 4.  2.]]\n",
            "[[ 9.  2. 10.]\n",
            " [ 8.  1.  8.]]\n",
            "[[1. 8.]\n",
            " [9. 7.]\n",
            " [5. 2.]]\n",
            "[[6. 4. 8.]\n",
            " [1. 2. 4.]]\n",
            "[[ 9.  4.]\n",
            " [ 2.  5.]\n",
            " [10.  7.]]\n",
            "[[7. 3. 6.]\n",
            " [6. 2. 3.]]\n",
            "[[4. 5.]\n",
            " [6. 0.]\n",
            " [5. 0.]]\n",
            "[[71.8 57. ]\n",
            " [46.2 42.2]]\n"
          ],
          "name": "stdout"
        }
      ]
    },
    {
      "cell_type": "markdown",
      "metadata": {
        "id": "dUN8Yy3RxEWz",
        "colab_type": "text"
      },
      "source": [
        "Sol 6."
      ]
    },
    {
      "cell_type": "code",
      "metadata": {
        "id": "dlSqrD8hpe_v",
        "colab_type": "code",
        "colab": {
          "base_uri": "https://localhost:8080/",
          "height": 84
        },
        "outputId": "f43b86be-8a3f-4cb8-e232-aa4d69acf6f4"
      },
      "source": [
        "\n",
        "print(C) \n",
        "np.savetxt('test.csv',C/5,delimiter=',')\n",
        "C=np.genfromtxt('test.csv',delimiter=',')\n",
        "print(C.transpose())"
      ],
      "execution_count": null,
      "outputs": [
        {
          "output_type": "stream",
          "text": [
            "[[22.976 18.24 ]\n",
            " [14.784 13.504]]\n",
            "[[4.5952 2.9568]\n",
            " [3.648  2.7008]]\n"
          ],
          "name": "stdout"
        }
      ]
    },
    {
      "cell_type": "markdown",
      "metadata": {
        "id": "Do6eGHkAzp56",
        "colab_type": "text"
      },
      "source": [
        "Sol 7."
      ]
    },
    {
      "cell_type": "code",
      "metadata": {
        "id": "fhwm3ntUxUu4",
        "colab_type": "code",
        "colab": {
          "base_uri": "https://localhost:8080/",
          "height": 101
        },
        "outputId": "f015e8ce-2254-4ae2-abfc-930dbaa63a88"
      },
      "source": [
        "print(C)\n",
        "x = np.mean(C)\n",
        "print(\"mean is: \",x)\n",
        "x = np.median(C)\n",
        "print(\"median is: \",x)\n",
        "from scipy import stats\n",
        "x = stats.mode(C)\n",
        "print(\"mode is: \",x)"
      ],
      "execution_count": null,
      "outputs": [
        {
          "output_type": "stream",
          "text": [
            "[[4.5952 3.648 ]\n",
            " [2.9568 2.7008]]\n",
            "mean is:  3.475200000000001\n",
            "median is:  3.3024000000000004\n",
            "mode is:  ModeResult(mode=array([[2.9568, 2.7008]]), count=array([[1, 1]]))\n"
          ],
          "name": "stdout"
        }
      ]
    },
    {
      "cell_type": "markdown",
      "metadata": {
        "id": "JRB8yX1J2bpb",
        "colab_type": "text"
      },
      "source": [
        "Sol 8."
      ]
    },
    {
      "cell_type": "code",
      "metadata": {
        "id": "U_iFMTU-2gxt",
        "colab_type": "code",
        "colab": {
          "base_uri": "https://localhost:8080/",
          "height": 50
        },
        "outputId": "2b485dd1-b5a6-4681-91ea-69128f1c6724"
      },
      "source": [
        "result  = C[np.triu_indices(2)]\n",
        "print(\"Extracted upper triangular part of the array C:\")\n",
        "print(result)"
      ],
      "execution_count": null,
      "outputs": [
        {
          "output_type": "stream",
          "text": [
            "Extracted upper triangular part of the array C:\n",
            "[4.5952 3.648  2.7008]\n"
          ],
          "name": "stdout"
        }
      ]
    },
    {
      "cell_type": "markdown",
      "metadata": {
        "id": "-J2CB9vN4Ps6",
        "colab_type": "text"
      },
      "source": [
        "Sol 9."
      ]
    },
    {
      "cell_type": "code",
      "metadata": {
        "id": "KRaljO-f20aa",
        "colab_type": "code",
        "colab": {
          "base_uri": "https://localhost:8080/",
          "height": 67
        },
        "outputId": "a0127785-8b7a-4309-871c-17a57e46df75"
      },
      "source": [
        "n=input(\"enter column num\")\n",
        "\n",
        "nn=int(n)\n",
        "\n",
        "import csv\n",
        "with open('test.csv', 'r') as file:\n",
        "    reader = csv.reader(file)\n",
        "    for row in reader:\n",
        "          print(row[nn])"
      ],
      "execution_count": null,
      "outputs": [
        {
          "output_type": "stream",
          "text": [
            "enter column num1\n",
            "3.648000000000000576e+00\n",
            "2.700800000000000090e+00\n"
          ],
          "name": "stdout"
        }
      ]
    },
    {
      "cell_type": "markdown",
      "metadata": {
        "id": "NZ5PWp1i82hu",
        "colab_type": "text"
      },
      "source": [
        "Sol 10."
      ]
    },
    {
      "cell_type": "code",
      "metadata": {
        "id": "KlE2LBHJ5otu",
        "colab_type": "code",
        "colab": {}
      },
      "source": [
        "n=input(\"enter the num to be replaced\")\n",
        "nn=int(n)\n",
        "import csv\n",
        "with open('test.csv', 'r') as file:\n",
        "    reader = csv.reader(file)\n",
        "    for row in reader:\n",
        "        if(row)\n",
        "        #not completed \n"
      ],
      "execution_count": null,
      "outputs": []
    }
  ]
}