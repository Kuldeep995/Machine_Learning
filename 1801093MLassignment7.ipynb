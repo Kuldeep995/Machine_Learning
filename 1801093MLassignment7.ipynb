{
  "nbformat": 4,
  "nbformat_minor": 0,
  "metadata": {
    "colab": {
      "name": "1801093MLassignment7.ipynb",
      "provenance": [],
      "collapsed_sections": [],
      "authorship_tag": "ABX9TyPrDMNZwHIFm+lDSWUXLtm+",
      "include_colab_link": true
    },
    "kernelspec": {
      "name": "python3",
      "display_name": "Python 3"
    }
  },
  "cells": [
    {
      "cell_type": "markdown",
      "metadata": {
        "id": "view-in-github",
        "colab_type": "text"
      },
      "source": [
        "<a href=\"https://colab.research.google.com/github/Kuldeep995/Machine_Learning/blob/master/1801093MLassignment7.ipynb\" target=\"_parent\"><img src=\"https://colab.research.google.com/assets/colab-badge.svg\" alt=\"Open In Colab\"/></a>"
      ]
    },
    {
      "cell_type": "markdown",
      "metadata": {
        "id": "JhNHXKXH8Yq1"
      },
      "source": [
        "**Initializing**"
      ]
    },
    {
      "cell_type": "code",
      "metadata": {
        "id": "7kFTgC5D8O7W"
      },
      "source": [
        "from sklearn.datasets import load_iris\n",
        "import matplotlib.pyplot as plt\n",
        "import pandas as pd\n",
        "import numpy as np\n",
        "from sklearn.cluster import KMeans\n",
        "from copy import deepcopy"
      ],
      "execution_count": null,
      "outputs": []
    },
    {
      "cell_type": "markdown",
      "metadata": {
        "id": "YN7-va4-8sQT"
      },
      "source": [
        "Load and visualise Dataset"
      ]
    },
    {
      "cell_type": "code",
      "metadata": {
        "id": "fWoZ2kD08v5h",
        "outputId": "843cdbc8-95d0-44c5-839f-1fb00a8e9239",
        "colab": {
          "base_uri": "https://localhost:8080/",
          "height": 268
        }
      },
      "source": [
        "data = load_iris()\n",
        "X = data['data']\n",
        "y = data['target']\n",
        "n = X.shape[0]\n",
        "c = X.shape[1]\n",
        "colors=['red', 'limegreen', 'magenta']\n",
        "for i in range(n):\n",
        "    plt.scatter(X[i, 0], X[i,1], s=24, color = colors[int(y[i])])"
      ],
      "execution_count": null,
      "outputs": [
        {
          "output_type": "display_data",
          "data": {
            "image/png": "[encoded data removed]",
            "text/plain": [
              "<Figure size 432x288 with 1 Axes>"
            ]
          },
          "metadata": {
            "tags": [],
            "needs_background": "light"
          }
        }
      ]
    },
    {
      "cell_type": "markdown",
      "metadata": {
        "id": "gA5yjCtQ8yUH"
      },
      "source": [
        "Implementing Kmeans"
      ]
    },
    {
      "cell_type": "markdown",
      "metadata": {
        "id": "Ku8NpNG08ysv"
      },
      "source": [
        "Elbow Method"
      ]
    },
    {
      "cell_type": "code",
      "metadata": {
        "id": "A_1iiUgw8y9t",
        "outputId": "f000d878-ebba-4f7b-b33f-6ff103313bb9",
        "colab": {
          "base_uri": "https://localhost:8080/",
          "height": 295
        }
      },
      "source": [
        "wcss = []\n",
        "for i in range(1, 11):\n",
        "    kmeans = KMeans(n_clusters = i, init = 'k-means++', random_state = 42)\n",
        "    kmeans.fit(X)\n",
        "    wcss.append(kmeans.inertia_)\n",
        "plt.plot(range(1, 11), wcss)\n",
        "plt.title('The Elbow Method')\n",
        "plt.xlabel('Number of clusters')\n",
        "plt.ylabel('WCSS')\n",
        "plt.show()"
      ],
      "execution_count": null,
      "outputs": [
        {
          "output_type": "display_data",
          "data": {
            "image/png": "[encoded data removed]",
            "text/plain": [
              "<Figure size 432x288 with 1 Axes>"
            ]
          },
          "metadata": {
            "tags": [],
            "needs_background": "light"
          }
        }
      ]
    },
    {
      "cell_type": "markdown",
      "metadata": {
        "id": "KIlw4Gwp9CV-"
      },
      "source": [
        "Algorithm"
      ]
    },
    {
      "cell_type": "code",
      "metadata": {
        "id": "uiRSxgJk9D9S",
        "outputId": "d6f0fc7b-fccd-4127-acf9-1ffb9f89ce94",
        "colab": {
          "base_uri": "https://localhost:8080/",
          "height": 335
        }
      },
      "source": [
        "K = 3\n",
        "n = X.shape[0]\n",
        "c = X.shape[1]\n",
        "mean = np.mean(X, axis = 0)\n",
        "std = np.std(X, axis = 0)\n",
        "centers = np.random.randn(K,c)*std + mean\n",
        "\n",
        "centersOld = np.zeros(centers.shape)\n",
        "centersNew = deepcopy(centers)\n",
        "clusters = np.zeros(n)\n",
        "distances = np.zeros((n,K))\n",
        "error = np.linalg.norm(centersNew - centersOld)\n",
        "while error != 0:\n",
        "    for i in range(K):\n",
        "        distances[:,i] = np.linalg.norm(X - centersNew[i], axis=1)\n",
        "    clusters = np.argmin(distances, axis = 1)\n",
        "    centersOld = deepcopy(centersNew)\n",
        "    for i in range(K):\n",
        "        centersNew[i] = np.mean(X[clusters == i], axis=0)\n",
        "    error = np.linalg.norm(centersNew - centersOld)\n",
        "print(centersNew)\n",
        "\n",
        "for i in range(n):\n",
        "    plt.scatter(X[i, 0], X[i,1], s=24, color = colors[int(y[i])])\n",
        "plt.scatter(centersNew[:,0], centersNew[:,1], marker='*', c='g', s=150)"
      ],
      "execution_count": null,
      "outputs": [
        {
          "output_type": "stream",
          "text": [
            "[[5.9016129  2.7483871  4.39354839 1.43387097]\n",
            " [5.006      3.428      1.462      0.246     ]\n",
            " [6.85       3.07368421 5.74210526 2.07105263]]\n"
          ],
          "name": "stdout"
        },
        {
          "output_type": "execute_result",
          "data": {
            "text/plain": [
              "<matplotlib.collections.PathCollection at 0x7f1d63d7df98>"
            ]
          },
          "metadata": {
            "tags": []
          },
          "execution_count": 4
        },
        {
          "output_type": "display_data",
          "data": {
            "image/png": "[encoded data removed]",
            "text/plain": [
              "<Figure size 432x288 with 1 Axes>"
            ]
          },
          "metadata": {
            "tags": [],
            "needs_background": "light"
          }
        }
      ]
    },
    {
      "cell_type": "markdown",
      "metadata": {
        "id": "FbfmYzpn9KBa"
      },
      "source": [
        "K Means using library"
      ]
    },
    {
      "cell_type": "code",
      "metadata": {
        "id": "wVneJ_JR9KX2",
        "outputId": "4e688391-504e-4006-a410-1cac99f5ca00",
        "colab": {
          "base_uri": "https://localhost:8080/",
          "height": 285
        }
      },
      "source": [
        "Kmean = KMeans(n_clusters = K)\n",
        "Kmean.fit(X)\n",
        "centersLib = Kmean.cluster_centers_\n",
        "colors=['red', 'limegreen', 'magenta']\n",
        "for i in range(n):\n",
        "    plt.scatter(X[i, 0], X[i,1], s=24, color = colors[int(y[i])])\n",
        "plt.scatter(centersLib[:,0], centersLib[:,1], marker='*', c='g', s=150)"
      ],
      "execution_count": null,
      "outputs": [
        {
          "output_type": "execute_result",
          "data": {
            "text/plain": [
              "<matplotlib.collections.PathCollection at 0x7f1d63474518>"
            ]
          },
          "metadata": {
            "tags": []
          },
          "execution_count": 5
        },
        {
          "output_type": "display_data",
          "data": {
            "image/png": "[encoded data removed]",
            "text/plain": [
              "<Figure size 432x288 with 1 Axes>"
            ]
          },
          "metadata": {
            "tags": [],
            "needs_background": "light"
          }
        }
      ]
    }
  ]
}