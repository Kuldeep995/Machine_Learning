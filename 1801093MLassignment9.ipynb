{
  "nbformat": 4,
  "nbformat_minor": 0,
  "metadata": {
    "colab": {
      "name": "1801093MLassignment9",
      "provenance": [],
      "collapsed_sections": [],
      "authorship_tag": "ABX9TyNQRFQlHzsRni/pYg5fy7ra",
      "include_colab_link": true
    },
    "kernelspec": {
      "name": "python3",
      "display_name": "Python 3"
    }
  },
  "cells": [
    {
      "cell_type": "markdown",
      "metadata": {
        "id": "view-in-github",
        "colab_type": "text"
      },
      "source": [
        "<a href=\"https://colab.research.google.com/github/Kuldeep995/Machine_Learning/blob/master/1801093MLassignment9.ipynb\" target=\"_parent\"><img src=\"https://colab.research.google.com/assets/colab-badge.svg\" alt=\"Open In Colab\"/></a>"
      ]
    },
    {
      "cell_type": "code",
      "metadata": {
        "id": "FcgfWbhSlcUt"
      },
      "source": [
        "import pandas as pd\n",
        "import numpy as np\n",
        "import random"
      ],
      "execution_count": null,
      "outputs": []
    },
    {
      "cell_type": "markdown",
      "metadata": {
        "id": "3CPeps9Alo4j"
      },
      "source": [
        "Support Vector Machines"
      ]
    },
    {
      "cell_type": "markdown",
      "metadata": {
        "id": "IzfkFJ0ZlsFk"
      },
      "source": [
        "(a) Load IRIS dataset. Create a linearly separable dataset with two features of petal length and petal width and two classes ‘versicolor’ and ‘virginica’."
      ]
    },
    {
      "cell_type": "code",
      "metadata": {
        "id": "ilP150eqlnFl",
        "colab": {
          "base_uri": "https://localhost:8080/",
          "height": 402
        },
        "outputId": "04a91462-4f21-420e-8cf3-d14101f9da14"
      },
      "source": [
        "irisDataSet=pd.read_csv('https://archive.ics.uci.edu/ml/machine-learning-databases/iris/iris.data',header=None);\n",
        "irisDataSet.columns=['Sepal-length(cm)','Sepal-width(cm)','Petal-length(cm)','Petal-width(cm)','Class']\n",
        "irisDataSet[50:150]"
      ],
      "execution_count": null,
      "outputs": [
        {
          "output_type": "execute_result",
          "data": {
            "text/html": [
              "<div>\n",
              "<style scoped>\n",
              "    .dataframe tbody tr th:only-of-type {\n",
              "        vertical-align: middle;\n",
              "    }\n",
              "\n",
              "    .dataframe tbody tr th {\n",
              "        vertical-align: top;\n",
              "    }\n",
              "\n",
              "    .dataframe thead th {\n",
              "        text-align: right;\n",
              "    }\n",
              "</style>\n",
              "<table border=\"1\" class=\"dataframe\">\n",
              "  <thead>\n",
              "    <tr style=\"text-align: right;\">\n",
              "      <th></th>\n",
              "      <th>Sepal-length(cm)</th>\n",
              "      <th>Sepal-width(cm)</th>\n",
              "      <th>Petal-length(cm)</th>\n",
              "      <th>Petal-width(cm)</th>\n",
              "      <th>Class</th>\n",
              "    </tr>\n",
              "  </thead>\n",
              "  <tbody>\n",
              "    <tr>\n",
              "      <th>50</th>\n",
              "      <td>7.0</td>\n",
              "      <td>3.2</td>\n",
              "      <td>4.7</td>\n",
              "      <td>1.4</td>\n",
              "      <td>Iris-versicolor</td>\n",
              "    </tr>\n",
              "    <tr>\n",
              "      <th>51</th>\n",
              "      <td>6.4</td>\n",
              "      <td>3.2</td>\n",
              "      <td>4.5</td>\n",
              "      <td>1.5</td>\n",
              "      <td>Iris-versicolor</td>\n",
              "    </tr>\n",
              "    <tr>\n",
              "      <th>52</th>\n",
              "      <td>6.9</td>\n",
              "      <td>3.1</td>\n",
              "      <td>4.9</td>\n",
              "      <td>1.5</td>\n",
              "      <td>Iris-versicolor</td>\n",
              "    </tr>\n",
              "    <tr>\n",
              "      <th>53</th>\n",
              "      <td>5.5</td>\n",
              "      <td>2.3</td>\n",
              "      <td>4.0</td>\n",
              "      <td>1.3</td>\n",
              "      <td>Iris-versicolor</td>\n",
              "    </tr>\n",
              "    <tr>\n",
              "      <th>54</th>\n",
              "      <td>6.5</td>\n",
              "      <td>2.8</td>\n",
              "      <td>4.6</td>\n",
              "      <td>1.5</td>\n",
              "      <td>Iris-versicolor</td>\n",
              "    </tr>\n",
              "    <tr>\n",
              "      <th>...</th>\n",
              "      <td>...</td>\n",
              "      <td>...</td>\n",
              "      <td>...</td>\n",
              "      <td>...</td>\n",
              "      <td>...</td>\n",
              "    </tr>\n",
              "    <tr>\n",
              "      <th>145</th>\n",
              "      <td>6.7</td>\n",
              "      <td>3.0</td>\n",
              "      <td>5.2</td>\n",
              "      <td>2.3</td>\n",
              "      <td>Iris-virginica</td>\n",
              "    </tr>\n",
              "    <tr>\n",
              "      <th>146</th>\n",
              "      <td>6.3</td>\n",
              "      <td>2.5</td>\n",
              "      <td>5.0</td>\n",
              "      <td>1.9</td>\n",
              "      <td>Iris-virginica</td>\n",
              "    </tr>\n",
              "    <tr>\n",
              "      <th>147</th>\n",
              "      <td>6.5</td>\n",
              "      <td>3.0</td>\n",
              "      <td>5.2</td>\n",
              "      <td>2.0</td>\n",
              "      <td>Iris-virginica</td>\n",
              "    </tr>\n",
              "    <tr>\n",
              "      <th>148</th>\n",
              "      <td>6.2</td>\n",
              "      <td>3.4</td>\n",
              "      <td>5.4</td>\n",
              "      <td>2.3</td>\n",
              "      <td>Iris-virginica</td>\n",
              "    </tr>\n",
              "    <tr>\n",
              "      <th>149</th>\n",
              "      <td>5.9</td>\n",
              "      <td>3.0</td>\n",
              "      <td>5.1</td>\n",
              "      <td>1.8</td>\n",
              "      <td>Iris-virginica</td>\n",
              "    </tr>\n",
              "  </tbody>\n",
              "</table>\n",
              "<p>100 rows × 5 columns</p>\n",
              "</div>"
            ],
            "text/plain": [
              "     Sepal-length(cm)  Sepal-width(cm)  ...  Petal-width(cm)            Class\n",
              "50                7.0              3.2  ...              1.4  Iris-versicolor\n",
              "51                6.4              3.2  ...              1.5  Iris-versicolor\n",
              "52                6.9              3.1  ...              1.5  Iris-versicolor\n",
              "53                5.5              2.3  ...              1.3  Iris-versicolor\n",
              "54                6.5              2.8  ...              1.5  Iris-versicolor\n",
              "..                ...              ...  ...              ...              ...\n",
              "145               6.7              3.0  ...              2.3   Iris-virginica\n",
              "146               6.3              2.5  ...              1.9   Iris-virginica\n",
              "147               6.5              3.0  ...              2.0   Iris-virginica\n",
              "148               6.2              3.4  ...              2.3   Iris-virginica\n",
              "149               5.9              3.0  ...              1.8   Iris-virginica\n",
              "\n",
              "[100 rows x 5 columns]"
            ]
          },
          "metadata": {
            "tags": []
          },
          "execution_count": 22
        }
      ]
    },
    {
      "cell_type": "code",
      "metadata": {
        "id": "5G-vAK9TlnW7"
      },
      "source": [
        "irisData=irisDataSet.to_numpy()[50:150,:-1]\n",
        "target=irisDataSet['Class'][50:150]\n",
        "target=[(-1 if val=='Iris-versicolor' else 1)for val in target]\n",
        "target=np.array(target)"
      ],
      "execution_count": null,
      "outputs": []
    },
    {
      "cell_type": "markdown",
      "metadata": {
        "id": "jN_GAS2NmAbD"
      },
      "source": [
        "(b) Perform a classification using SVM"
      ]
    },
    {
      "cell_type": "code",
      "metadata": {
        "id": "LCRjrzxVlnaW"
      },
      "source": [
        "class SVM(object):\n",
        "\n",
        "  def __init__(self,nInputs,dataSet,target,lmbda=0.001,nIters=400,lr=0.01):\n",
        "\n",
        "    self.dataSet=dataSet\n",
        "    self.target=target\n",
        "    self.nInputs=nInputs\n",
        "    self.lmbda=lmbda\n",
        "    self.nIters=nIters\n",
        "    self.lr=lr\n",
        "\n",
        "    self.w=np.zeros(self.nInputs)\n",
        "    self.b=0\n",
        "\n",
        "  def fit(self):\n",
        "\n",
        "    for _ in range(self.nIters):\n",
        "      for xi,yi in zip(self.dataSet,self.target):\n",
        "        cond = yi * (np.dot(xi, self.w) - self.b) >= 1\n",
        "        if cond:\n",
        "          self.w -= self.lr * (2 * self.lmbda * self.w)\n",
        "        else:\n",
        "          self.w = self.w - self.lr * (2 * self.lmbda * self.w - xi*yi)\n",
        "          self.b -= self.lr * yi\n",
        "\n",
        "  def predict(self, X):\n",
        "    res = np.dot(X, self.w) - self.b\n",
        "    return np.sign(res)\n",
        "\n",
        "  def accuracy(self,dataSet,target):\n",
        "    c=0.0\n",
        "    for xi,yi in zip(dataSet,target):\n",
        "      if yi==self.predict(xi):\n",
        "        c+=1\n",
        "    return (c/len(target))*100\n"
      ],
      "execution_count": null,
      "outputs": []
    },
    {
      "cell_type": "code",
      "metadata": {
        "id": "HhoGRmAWmE9G",
        "colab": {
          "base_uri": "https://localhost:8080/"
        },
        "outputId": "8a3e7524-18e3-43ad-c9b5-8614263a9727"
      },
      "source": [
        "svm=SVM(4,irisData,target)\n",
        "svm.fit()\n",
        "svm.accuracy(irisData,target)"
      ],
      "execution_count": null,
      "outputs": [
        {
          "output_type": "execute_result",
          "data": {
            "text/plain": [
              "93.0"
            ]
          },
          "metadata": {
            "tags": []
          },
          "execution_count": 6
        }
      ]
    },
    {
      "cell_type": "markdown",
      "metadata": {
        "id": "_CWdqBObmLs4"
      },
      "source": [
        "(c) Perform 5-fold cross-validation and report the class-wise and average accuracies."
      ]
    },
    {
      "cell_type": "code",
      "metadata": {
        "id": "ZeJrpw4VmFTf",
        "colab": {
          "base_uri": "https://localhost:8080/"
        },
        "outputId": "834d56b3-8b3b-4739-f677-5501fe2b748e"
      },
      "source": [
        "\n",
        "\n",
        "def kFoldSplit(dataset, folds):\n",
        "\tdataset_split = list()\n",
        "\tdataset_copy = list(dataset)\n",
        "\tfold_size = int(len(dataset) / folds)\n",
        "\tfor i in range(folds):\n",
        "\t\tfold = list()\n",
        "\t\twhile len(fold) < fold_size:\n",
        "\t\t\tindex = randrange(len(dataset_copy))\n",
        "\t\t\tfold.append(dataset_copy.pop(index))\n",
        "\t\tdataset_split.append(fold)\n",
        "\treturn np.array(dataset_split)\n",
        "\n",
        "\n",
        "def kFoldCrossValidation(dataSet,target,folds):\n",
        "\n",
        "  dataSetAndTarget=np.column_stack((dataSet,target))\n",
        "\n",
        "  kFoldData=kFoldSplit(dataSetAndTarget,folds)\n",
        "  acc=[]\n",
        "\n",
        "  for i in range(len(kFoldData)):\n",
        "    testData=kFoldData[i]\n",
        "    testX=testData[:,:-1]\n",
        "    testY=testData[:,-1:]\n",
        "    c=0\n",
        "    for k in range(len(kFoldData)):\n",
        "      if i!=k:\n",
        "        if c == 0:\n",
        "          trainData=kFoldData[k]\n",
        "        else:\n",
        "          trainData=np.row_stack((trainData,kFoldData[k]))\n",
        "        c+=1\n",
        "\n",
        "    trainX=trainData[:,:-1]\n",
        "    trainY=trainData[:,-1:]\n",
        "\n",
        "    svm=SVM(4,trainX,trainY)\n",
        "    svm.fit()\n",
        "    acc.append(svm.accuracy(testX,testY))\n",
        "  \n",
        "  return acc\n",
        "  print(\"Avg accuracy after 5-fold cross validation using SVM : \",np.mean(kFoldCrossValidation(irisData,target,5)))\n",
        "  svm=SVM(4,irisData,target)\n",
        "svm.fit()\n",
        "class1Acc=svm.accuracy(irisData[0:50],target[0:50])\n",
        "class2Acc=svm.accuracy(irisData[50:100],target[50:100])\n",
        "\n",
        "print(\"Class wise Accuracy (Class 1) : \",class1Acc)\n",
        "print(\"Class wise Accuracy (Class 2) : \",class2Acc)"
      ],
      "execution_count": null,
      "outputs": [
        {
          "output_type": "stream",
          "text": [
            "Class wise Accuracy (Class 1) :  86.0\n",
            "Class wise Accuracy (Class 2) :  100.0\n"
          ],
          "name": "stdout"
        }
      ]
    },
    {
      "cell_type": "markdown",
      "metadata": {
        "id": "43x19mvimYO-"
      },
      "source": [
        "2. Perform classification over IRIS dataset using radial basis function neural network (no use of any library functions). For the identification of the initial cluster centers, use the k-means algorithm (reuse your previous assignment’s code). Report the individual class-wise accuracy, average accuracy and overall accuracy."
      ]
    },
    {
      "cell_type": "code",
      "metadata": {
        "id": "L6RALtWzmZXE"
      },
      "source": [
        "import math\n",
        "class Cluster(object):\n",
        "  def __init__(self,nodeIds,centroidNode):\n",
        "    self.nodeIds=nodeIds\n",
        "    self.centroidNode=centroidNode\n",
        "class KMeans(object):\n",
        "\n",
        "  def __init__(self,dataSet,k):\n",
        "    self.k=k\n",
        "    self.dataSet=dataSet\n",
        "    pnt=np.random.randint(0,len(self.dataSet),size=self.k)\n",
        "    self.clusters=[(Cluster([],self.dataSet[i]))for i in pnt]\n",
        "    self.meanSqDevs=[]\n",
        "\n",
        "\n",
        "  def Clustering(self):\n",
        "    for cluster in self.clusters:\n",
        "      cluster.nodeIds=[]\n",
        "    for i,node in enumerate(self.dataSet):\n",
        "      minIndx,minD=self.MinDistanceCluster(node)\n",
        "      self.clusters[minIndx].nodeIds.append(i)\n",
        "      self.clusters[minIndx].centroidNode=self.UpdateCentroid(self.clusters[minIndx],node)\n",
        "  \n",
        "  def fit(self):\n",
        "    for i in range(20):\n",
        "\n",
        "      self.Clustering()\n",
        "      self.meanSqDevs.append(self.AvgSqDev())\n",
        "\n",
        "\n",
        "\n",
        "\n",
        "  def AvgSqDev(self):\n",
        "    nodes=self.dataSet\n",
        "    stdDev=[]\n",
        "    for cluster in self.clusters: \n",
        "      s=0.0\n",
        "      for nodeId in cluster.nodeIds:\n",
        "        s+=sum((nodes[nodeId]-cluster.centroidNode)**2)\n",
        "      # s/=len(cluster.nodeIds)\n",
        "      # s=(s)**0.5\n",
        "      stdDev.append(s)\n",
        "    return np.mean(stdDev)\n",
        "\n",
        "  \n",
        "\n",
        "  def UpdateCentroid(self,cluster,node):\n",
        "    nodes=len(cluster.nodeIds)*np.array(cluster.centroidNode)+np.array(node) \n",
        "    centroid = nodes/(len(cluster.nodeIds)+1)\n",
        "    return centroid\n",
        "\n",
        "  def MinDistanceCluster(self,node):\n",
        "    minD=1e9\n",
        "    minIndx=1e9\n",
        "    for i,cluster in enumerate(self.clusters):\n",
        "      d=math.sqrt(sum((cluster.centroidNode-node)**2))\n",
        "      if d <= minD:\n",
        "        minD=d\n",
        "        minIndx=i\n",
        "    return int(minIndx),minD"
      ],
      "execution_count": null,
      "outputs": []
    },
    {
      "cell_type": "code",
      "metadata": {
        "id": "p0JqzXy7AmQl",
        "colab": {
          "base_uri": "https://localhost:8080/"
        },
        "outputId": "4fed8ba0-84e0-4034-e338-fdd353a8dc28"
      },
      "source": [
        "_irisData=irisDataSet.to_numpy()[:,:-1]\n",
        "kmeans=KMeans(_irisData,3)\n",
        "kmeans.fit()\n",
        "centres=[]\n",
        "for cluster in kmeans.clusters:\n",
        "  print(cluster.centroidNode)\n",
        "  centres.append(cluster.centroidNode)"
      ],
      "execution_count": null,
      "outputs": [
        {
          "output_type": "stream",
          "text": [
            "[4.713043478260869 3.121739130434783 1.4173913043478261\n",
            " 0.19130434782608705]\n",
            "[5.255555555555555 3.6703703703703705 1.5037037037037033\n",
            " 0.2888888888888889]\n",
            "[6.261999999999999 2.8720000000000008 4.905999999999998 1.6760000000000006]\n"
          ],
          "name": "stdout"
        }
      ]
    },
    {
      "cell_type": "code",
      "metadata": {
        "id": "qfALce3aAqIz"
      },
      "source": [
        "class RBFN(object):\n",
        "\n",
        "  def __init__(self,dataSet,target,K = 3,lr = 0.01,sigma=1.0,nIters=100):\n",
        "    \n",
        "    self.dataSet=dataSet\n",
        "    self.target=target\n",
        "    self.K = K\n",
        "    self.lr = lr\n",
        "    self.nIters=nIters\n",
        "    self.sigma=sigma\n",
        "\n",
        "    self.bias = random.uniform(0.0, 0.5)\n",
        "    self.weights = []\n",
        "    for i in range(self.K):\n",
        "      self.weights.append(random.uniform(0.0, 0.5))\n",
        "    \n",
        "    self.centres=[]\n",
        "\n",
        "\n",
        "  def fit (self):\n",
        "\n",
        "    kmeans = KMeans(self.dataSet,self.K)\n",
        "    kmeans.fit()\n",
        "    self.centres=[]\n",
        "    for cluster in kmeans.clusters:\n",
        "      self.centres.append(cluster.centroidNode)\n",
        "\n",
        "    for ep in range(self.nIters): \n",
        "      for xi,yi in zip(self.dataSet,self.target):\n",
        "        y = 0.0\n",
        "        for i in range(len(self.centres)):\n",
        "          y += self.kernelFunc(self.centres[i],xi) * self.weights[i]\n",
        "        \n",
        "        y += self.bias\n",
        "               \n",
        "        err = (yi - y)\n",
        "\n",
        "        for j in range(self.K):\n",
        "          g = err * self.kernelFunc(self.centres[j],xi)\n",
        "          self.weights[j] += self.lr * g\n",
        "        self.bias += self.lr * err\n",
        "\n",
        "  def predict(self, X):\n",
        "    y = []\n",
        "    for x_i in X:\n",
        "      y_i = 0.0\n",
        "      for j in range( len(self.centres) ):\n",
        "        y_i += self.kernelFunc(self.centres[j],x_i) * self.weights[j]\n",
        "      y_i +=  self.bias\n",
        "      y.append(y_i)\n",
        "    return y\n",
        "\n",
        "  def accuracy(self,X,Y):\n",
        "    c=0.0\n",
        "    _Y=self.predict(X)\n",
        "    _Y=[((-1 if val <= -0.5 else 0) if val <= 0.5 else 1)for val in _Y]\n",
        "\n",
        "    for i in range(len(_Y)):\n",
        "      if _Y[i]==Y[i]:\n",
        "        c+=1\n",
        "\n",
        "    return (c/len(_Y))*100\n",
        "\n",
        "  def kernelFunc(self, center, data_point):\n",
        "    return np.exp(-self.sigma*np.linalg.norm(center-data_point)**2)"
      ],
      "execution_count": null,
      "outputs": []
    },
    {
      "cell_type": "code",
      "metadata": {
        "id": "31X0nKcOAqRb"
      },
      "source": [
        "_iris=irisDataSet.to_numpy()[:,:-1]\n",
        "_target=irisDataSet['Class'].to_numpy()\n",
        "_target=[((-1 if i==\"Iris-setosa\" else 0) if i!=\"Iris-virginica\" else 1)for i in _target]\n",
        "_target=np.array(_target)\n",
        "rbfn=RBFN(_iris,_target)\n",
        "rbfn.fit()"
      ],
      "execution_count": null,
      "outputs": []
    },
    {
      "cell_type": "code",
      "metadata": {
        "id": "VwttuJ2kAuW7"
      },
      "source": [
        "class1Acc=rbfn.accuracy(_iris[0:50],_target[0:50])\n",
        "class2Acc=rbfn.accuracy(_iris[50:100],_target[50:100])\n",
        "class3Acc=rbfn.accuracy(_iris[100:150],_target[100:150])"
      ],
      "execution_count": null,
      "outputs": []
    },
    {
      "cell_type": "code",
      "metadata": {
        "id": "3mwH8iYdAudF",
        "colab": {
          "base_uri": "https://localhost:8080/"
        },
        "outputId": "461d4148-a4bb-41c0-bfb7-fab47c321884"
      },
      "source": [
        "print(\"Class 1 Accuracy: \",class1Acc)\n",
        "print(\"Class 2 Accuracy: \",class2Acc)\n",
        "print(\"Class 3 Accuracy: \",class3Acc)\n",
        "overallAcc=rbfn.accuracy(_iris,_target)\n",
        "print(\"Overall Accuracy : \",overallAcc )"
      ],
      "execution_count": null,
      "outputs": [
        {
          "output_type": "stream",
          "text": [
            "Class 1 Accuracy:  86.0\n",
            "Class 2 Accuracy:  66.0\n",
            "Class 3 Accuracy:  92.0\n",
            "Overall Accuracy :  81.33333333333333\n"
          ],
          "name": "stdout"
        }
      ]
    }
  ]
}