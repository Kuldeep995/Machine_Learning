{
  "nbformat": 4,
  "nbformat_minor": 0,
  "metadata": {
    "colab": {
      "name": "1801093MLassignment8",
      "provenance": [],
      "collapsed_sections": [],
      "authorship_tag": "ABX9TyPkWzjtCx7WJZ1+o+DXXcS5",
      "include_colab_link": true
    },
    "kernelspec": {
      "name": "python3",
      "display_name": "Python 3"
    }
  },
  "cells": [
    {
      "cell_type": "markdown",
      "metadata": {
        "id": "view-in-github",
        "colab_type": "text"
      },
      "source": [
        "<a href=\"https://colab.research.google.com/github/Kuldeep995/Machine_Learning/blob/master/1801093MLassignment8.ipynb\" target=\"_parent\"><img src=\"https://colab.research.google.com/assets/colab-badge.svg\" alt=\"Open In Colab\"/></a>"
      ]
    },
    {
      "cell_type": "code",
      "metadata": {
        "id": "CuXCgsBo23R1",
        "outputId": "f33af5ea-b293-4a38-d4da-a6e5b60278d1",
        "colab": {
          "base_uri": "https://localhost:8080/"
        }
      },
      "source": [
        "import pandas as pd\n",
        "import numpy as np\n",
        "import random\n",
        "import math\n",
        "from sklearn import datasets\n",
        "import matplotlib.pyplot as plt\n",
        "from sklearn.metrics import silhouette_samples, silhouette_score\n",
        "\n",
        "iris = datasets.load_iris()\n",
        "df = pd.DataFrame(iris.data, columns=iris.feature_names)\n",
        "print(df)\n",
        "data = df.to_numpy()\n",
        "classes = iris.target"
      ],
      "execution_count": null,
      "outputs": [
        {
          "output_type": "stream",
          "text": [
            "     sepal length (cm)  sepal width (cm)  petal length (cm)  petal width (cm)\n",
            "0                  5.1               3.5                1.4               0.2\n",
            "1                  4.9               3.0                1.4               0.2\n",
            "2                  4.7               3.2                1.3               0.2\n",
            "3                  4.6               3.1                1.5               0.2\n",
            "4                  5.0               3.6                1.4               0.2\n",
            "..                 ...               ...                ...               ...\n",
            "145                6.7               3.0                5.2               2.3\n",
            "146                6.3               2.5                5.0               1.9\n",
            "147                6.5               3.0                5.2               2.0\n",
            "148                6.2               3.4                5.4               2.3\n",
            "149                5.9               3.0                5.1               1.8\n",
            "\n",
            "[150 rows x 4 columns]\n"
          ],
          "name": "stdout"
        }
      ]
    },
    {
      "cell_type": "markdown",
      "metadata": {
        "id": "MZCA-Dh73s7H"
      },
      "source": [
        "Implement a self-organizing feature map on IRIS data for clustering purpose."
      ]
    },
    {
      "cell_type": "code",
      "metadata": {
        "id": "ge1mNgr83t7j"
      },
      "source": [
        "def cluster_SOM(x, map, h, w):\n",
        "  pattern_arr = np.tile(x, (h ,w, 1))\n",
        "  Eucli_MAP = np.linalg.norm(pattern_arr - map, axis=2)\n",
        "  BMU = np.unravel_index(np.argmin(Eucli_MAP, axis=None), Eucli_MAP.shape)\n",
        "  return BMU\n",
        "\n",
        "def SOM_scratch(X,map_height,map_width,features,learning_rate0 = 0.1,total_epochs = 500):\n",
        "  radius0 = max(map_width,map_height)/2\n",
        "\n",
        "  MAP = np.random.uniform(size=(map_height,map_width,features))\n",
        "  prev_MAP = np.zeros((map_height,map_width,features))\n",
        "\n",
        "  radius=radius0\n",
        "  learning_rate = learning_rate0\n",
        "\n",
        "  convergence = [1]\n",
        "  e_converge=0.001\n",
        "  flag = 0\n",
        "\n",
        "  for epoch in range(total_epochs):\n",
        "    shuffle = np.random.randint(len(data), size=len(data))\n",
        "\n",
        "    for k in range(len(data)):\n",
        "      J = np.linalg.norm(MAP - prev_MAP)\n",
        "\n",
        "      if  J <= e_converge:\n",
        "        flag=1\n",
        "        break    \n",
        "      else:\n",
        "        pattern = data[shuffle[k]]\n",
        "        BMU = cluster_SOM(pattern,MAP,map_height,map_width)\n",
        "        prev_MAP = np.copy(MAP)\n",
        "        \n",
        "        for i in range(map_height):\n",
        "          for j in range(map_width):\n",
        "            distance = np.linalg.norm([i - BMU[0], j - BMU[1]])\n",
        "            if distance <= radius:\n",
        "              MAP[i][j] += learning_rate*(pattern-MAP[i][j])\n",
        "        \n",
        "        learning_rate = learning_rate0*math.exp(-epoch/total_epochs)\n",
        "        radius = radius0*math.exp(-epoch/total_epochs)\n",
        "    \n",
        "    convergence.append(J)\n",
        "    \n",
        "    if flag==1:\n",
        "      break\n",
        "\n",
        "  return MAP"
      ],
      "execution_count": null,
      "outputs": []
    },
    {
      "cell_type": "code",
      "metadata": {
        "id": "cecrzG8i3w4a"
      },
      "source": [
        "m_h ,m_w, f = 7,7,4\n",
        "MAP_7x7 = SOM_scratch(data,m_h ,m_w, f)"
      ],
      "execution_count": null,
      "outputs": []
    },
    {
      "cell_type": "code",
      "metadata": {
        "id": "EafeyUZa3xBe",
        "outputId": "5f790463-d76d-4a7e-c540-ee1b34a733f9",
        "colab": {
          "base_uri": "https://localhost:8080/",
          "height": 315
        }
      },
      "source": [
        "BMU = np.zeros([2],dtype=np.int32)\n",
        "result_map = np.zeros([m_h ,m_w,3],dtype=np.float32)\n",
        "\n",
        "i=0\n",
        "for pattern in data:\n",
        "    BMU = cluster_SOM(pattern,MAP_7x7,m_h,m_w)\n",
        "    x = BMU[0]\n",
        "    y = BMU[1]\n",
        "    if classes[i] == 0:\n",
        "        if result_map[x][y][0] <= 0.5:\n",
        "            result_map[x][y] += np.asarray([0.5,0,0])\n",
        "    elif classes[i] == 1:\n",
        "        if result_map[x][y][1] <= 0.5:\n",
        "            result_map[x][y] += np.asarray([0,0.5,0])\n",
        "    elif classes[i] == 2:\n",
        "        if result_map[x][y][2] <= 0.5:\n",
        "            result_map[x][y] += np.asarray([0,0,0.5])\n",
        "    i+=1\n",
        "result_map = np.flip(result_map,0)\n",
        "\n",
        "print(\"Red = Iris-Setosa\")\n",
        "print(\"Blue = Iris-Virginica\")\n",
        "print(\"Green = Iris-Versicolor\")\n",
        "plt.imshow(result_map, interpolation='nearest')\n",
        "plt.show()"
      ],
      "execution_count": null,
      "outputs": [
        {
          "output_type": "stream",
          "text": [
            "Red = Iris-Setosa\n",
            "Blue = Iris-Virginica\n",
            "Green = Iris-Versicolor\n"
          ],
          "name": "stdout"
        },
        {
          "output_type": "display_data",
          "data": {
            "image/png": "[encoded data removed]",
            "text/plain": [
              "<Figure size 432x288 with 1 Axes>"
            ]
          },
          "metadata": {
            "tags": [],
            "needs_background": "light"
          }
        }
      ]
    },
    {
      "cell_type": "markdown",
      "metadata": {
        "id": "7B064JIn4IEP"
      },
      "source": [
        "Find the Silhouette Coefficient of the clusters."
      ]
    },
    {
      "cell_type": "code",
      "metadata": {
        "id": "uq5iRZPh4K3Z",
        "outputId": "7afe6803-0826-4058-abd4-a4b8e36ead2e",
        "colab": {
          "base_uri": "https://localhost:8080/"
        }
      },
      "source": [
        "m_h ,m_w, f = 1,3,4\n",
        "MAP_1x3 = SOM_scratch(data,m_h ,m_w, f)\n",
        "winner_coordinates = np.array([cluster_SOM(x,MAP_1x3,m_h,m_w) for x in data]).T\n",
        "cluster_index = np.ravel_multi_index(winner_coordinates, (m_h, m_w))\n",
        "cluster_index"
      ],
      "execution_count": null,
      "outputs": [
        {
          "output_type": "execute_result",
          "data": {
            "text/plain": [
              "array([0, 0, 0, 0, 0, 0, 0, 0, 0, 0, 0, 0, 0, 0, 0, 0, 0, 0, 0, 0, 0, 0,\n",
              "       0, 0, 0, 0, 0, 0, 0, 0, 0, 0, 0, 0, 0, 0, 0, 0, 0, 0, 0, 0, 0, 0,\n",
              "       0, 0, 0, 0, 0, 0, 2, 1, 2, 1, 1, 1, 1, 1, 1, 1, 1, 1, 1, 1, 1, 1,\n",
              "       1, 1, 1, 1, 1, 1, 1, 1, 1, 1, 1, 2, 1, 1, 1, 1, 1, 1, 1, 1, 1, 1,\n",
              "       1, 1, 1, 1, 1, 1, 1, 1, 1, 1, 1, 1, 2, 1, 2, 2, 2, 2, 1, 2, 2, 2,\n",
              "       2, 2, 2, 1, 1, 2, 2, 2, 2, 1, 2, 1, 2, 1, 2, 2, 1, 1, 2, 2, 2, 2,\n",
              "       2, 1, 2, 2, 2, 2, 1, 2, 2, 2, 1, 2, 2, 2, 1, 2, 2, 1])"
            ]
          },
          "metadata": {
            "tags": []
          },
          "execution_count": 7
        }
      ]
    },
    {
      "cell_type": "code",
      "metadata": {
        "id": "vRmw2bbI4K6w",
        "outputId": "ac7617b2-c31e-43d2-997a-03b5e4971ebf",
        "colab": {
          "base_uri": "https://localhost:8080/",
          "height": 265
        }
      },
      "source": [
        "points=[]\n",
        "for i in range(m_h):\n",
        "  for j in range(m_w):\n",
        "    points.append(MAP_1x3[i][j])\n",
        "centroid_self = pd.DataFrame(points)\n",
        "\n",
        "for c in np.unique(cluster_index):\n",
        "  plt.scatter(data[cluster_index == c, 2], data[cluster_index == c, 3], label='cluster='+str(c), alpha=.7)\n",
        "\n",
        "plt.scatter(centroid_self[2], centroid_self[3], marker='*', s=150, color='k', label='centroid')\n",
        "\n",
        "plt.legend()\n",
        "plt.show()"
      ],
      "execution_count": null,
      "outputs": [
        {
          "output_type": "display_data",
          "data": {
            "image/png": "[encoded data removed]",
            "text/plain": [
              "<Figure size 432x288 with 1 Axes>"
            ]
          },
          "metadata": {
            "tags": [],
            "needs_background": "light"
          }
        }
      ]
    },
    {
      "cell_type": "code",
      "metadata": {
        "id": "sA_O11S84ZNN",
        "outputId": "cf6e9c5d-235c-483c-e147-a0690239135e",
        "colab": {
          "base_uri": "https://localhost:8080/"
        }
      },
      "source": [
        "silhouette_avg_self = silhouette_score(data, cluster_index)\n",
        "print(\"From Scratch implementation - Silhoutte score:\",silhouette_avg_self)"
      ],
      "execution_count": null,
      "outputs": [
        {
          "output_type": "stream",
          "text": [
            "From Scratch implementation - Silhoutte score: 0.5511916046195916\n"
          ],
          "name": "stdout"
        }
      ]
    },
    {
      "cell_type": "markdown",
      "metadata": {
        "id": "ClRc0R2J4cfU"
      },
      "source": [
        "Repeat the same experiment (as in Question 1) using the inbuilt function."
      ]
    },
    {
      "cell_type": "code",
      "metadata": {
        "id": "IZ0e--kD4ct_",
        "outputId": "4654a106-8993-4f91-9306-17d4b9ab843d",
        "colab": {
          "base_uri": "https://localhost:8080/"
        }
      },
      "source": [
        "!pip install minisom\n",
        "from minisom import MiniSom"
      ],
      "execution_count": null,
      "outputs": [
        {
          "output_type": "stream",
          "text": [
            "Collecting minisom\n",
            "  Downloading https://files.pythonhosted.org/packages/69/3c/a5ad0d36137285cdffdd5cad105ec2eb3c3ddfbd3254a324993ab51d3401/MiniSom-2.2.7.tar.gz\n",
            "Building wheels for collected packages: minisom\n",
            "  Building wheel for minisom (setup.py) ... \u001b[?25l\u001b[?25hdone\n",
            "  Created wheel for minisom: filename=MiniSom-2.2.7-cp36-none-any.whl size=8607 sha256=ad2a5f8c3d2cad428b202334a68e6b85e2893d7b69a85b5e64688c070e87efb0\n",
            "  Stored in directory: /root/.cache/pip/wheels/db/9a/af/0fca4ced67fec66c00998c4bf55b13f0a4c882ee775f278862\n",
            "Successfully built minisom\n",
            "Installing collected packages: minisom\n",
            "Successfully installed minisom-2.2.7\n"
          ],
          "name": "stdout"
        }
      ]
    },
    {
      "cell_type": "code",
      "metadata": {
        "id": "DltRuyKS4sgP",
        "outputId": "1caf189b-d934-4296-e450-c65095ec02da",
        "colab": {
          "base_uri": "https://localhost:8080/"
        }
      },
      "source": [
        "m_h ,m_w, f = 7,7,4\n",
        "som_7x7 = MiniSom(m_h ,m_w, f, sigma=0.9, learning_rate=0.9)\n",
        "som_7x7.random_weights_init(data)\n",
        "som_7x7.train_random(data,500,verbose=True)"
      ],
      "execution_count": null,
      "outputs": [
        {
          "output_type": "stream",
          "text": [
            "\r [   0 / 500 ]   0% - ? it/s\r [   0 / 500 ]   0% - ? it/s\r [   1 / 500 ]   0% - 0:00:00 left \r [   2 / 500 ]   0% - 0:00:00 left \r [   3 / 500 ]   1% - 0:00:00 left \r [   4 / 500 ]   1% - 0:00:00 left \r [   5 / 500 ]   1% - 0:00:00 left \r [   6 / 500 ]   1% - 0:00:00 left \r [   7 / 500 ]   1% - 0:00:00 left \r [   8 / 500 ]   2% - 0:00:00 left \r [   9 / 500 ]   2% - 0:00:00 left \r [  10 / 500 ]   2% - 0:00:00 left \r [  11 / 500 ]   2% - 0:00:00 left \r [  12 / 500 ]   2% - 0:00:00 left \r [  13 / 500 ]   3% - 0:00:00 left \r [  14 / 500 ]   3% - 0:00:00 left \r [  15 / 500 ]   3% - 0:00:00 left \r [  16 / 500 ]   3% - 0:00:00 left \r [  17 / 500 ]   3% - 0:00:00 left \r [  18 / 500 ]   4% - 0:00:00 left \r [  19 / 500 ]   4% - 0:00:00 left \r [  20 / 500 ]   4% - 0:00:00 left \r [  21 / 500 ]   4% - 0:00:00 left \r [  22 / 500 ]   4% - 0:00:00 left \r [  23 / 500 ]   5% - 0:00:00 left \r [  24 / 500 ]   5% - 0:00:00 left \r [  25 / 500 ]   5% - 0:00:00 left \r [  26 / 500 ]   5% - 0:00:00 left \r [  27 / 500 ]   5% - 0:00:00 left \r [  28 / 500 ]   6% - 0:00:00 left \r [  29 / 500 ]   6% - 0:00:00 left \r [  30 / 500 ]   6% - 0:00:00 left \r [  31 / 500 ]   6% - 0:00:00 left \r [  32 / 500 ]   6% - 0:00:00 left \r [  33 / 500 ]   7% - 0:00:00 left \r [  34 / 500 ]   7% - 0:00:00 left \r [  35 / 500 ]   7% - 0:00:00 left \r [  36 / 500 ]   7% - 0:00:00 left \r [  37 / 500 ]   7% - 0:00:00 left \r [  38 / 500 ]   8% - 0:00:00 left \r [  39 / 500 ]   8% - 0:00:00 left \r [  40 / 500 ]   8% - 0:00:00 left \r [  41 / 500 ]   8% - 0:00:00 left \r [  42 / 500 ]   8% - 0:00:00 left \r [  43 / 500 ]   9% - 0:00:00 left \r [  44 / 500 ]   9% - 0:00:00 left \r [  45 / 500 ]   9% - 0:00:00 left \r [  46 / 500 ]   9% - 0:00:00 left \r [  47 / 500 ]   9% - 0:00:00 left \r [  48 / 500 ]  10% - 0:00:00 left \r [  49 / 500 ]  10% - 0:00:00 left \r [  50 / 500 ]  10% - 0:00:00 left \r [  51 / 500 ]  10% - 0:00:00 left \r [  52 / 500 ]  10% - 0:00:00 left \r [  53 / 500 ]  11% - 0:00:00 left \r [  54 / 500 ]  11% - 0:00:00 left \r [  55 / 500 ]  11% - 0:00:00 left \r [  56 / 500 ]  11% - 0:00:00 left \r [  57 / 500 ]  11% - 0:00:00 left \r [  58 / 500 ]  12% - 0:00:00 left \r [  59 / 500 ]  12% - 0:00:00 left \r [  60 / 500 ]  12% - 0:00:00 left \r [  61 / 500 ]  12% - 0:00:00 left \r [  62 / 500 ]  12% - 0:00:00 left \r [  63 / 500 ]  13% - 0:00:00 left \r [  64 / 500 ]  13% - 0:00:00 left \r [  65 / 500 ]  13% - 0:00:00 left \r [  66 / 500 ]  13% - 0:00:00 left \r [  67 / 500 ]  13% - 0:00:00 left \r [  68 / 500 ]  14% - 0:00:00 left \r [  69 / 500 ]  14% - 0:00:00 left \r [  70 / 500 ]  14% - 0:00:00 left \r [  71 / 500 ]  14% - 0:00:00 left \r [  72 / 500 ]  14% - 0:00:00 left \r [  73 / 500 ]  15% - 0:00:00 left \r [  74 / 500 ]  15% - 0:00:00 left \r [  75 / 500 ]  15% - 0:00:00 left \r [  76 / 500 ]  15% - 0:00:00 left \r [  77 / 500 ]  15% - 0:00:00 left \r [  78 / 500 ]  16% - 0:00:00 left \r [  79 / 500 ]  16% - 0:00:00 left \r [  80 / 500 ]  16% - 0:00:00 left \r [  81 / 500 ]  16% - 0:00:00 left \r [  82 / 500 ]  16% - 0:00:00 left \r [  83 / 500 ]  17% - 0:00:00 left \r [  84 / 500 ]  17% - 0:00:00 left \r [  85 / 500 ]  17% - 0:00:00 left \r [  86 / 500 ]  17% - 0:00:00 left \r [  87 / 500 ]  17% - 0:00:00 left \r [  88 / 500 ]  18% - 0:00:00 left \r [  89 / 500 ]  18% - 0:00:00 left \r [  90 / 500 ]  18% - 0:00:00 left \r [  91 / 500 ]  18% - 0:00:00 left \r [  92 / 500 ]  18% - 0:00:00 left \r [  93 / 500 ]  19% - 0:00:00 left \r [  94 / 500 ]  19% - 0:00:00 left \r [  95 / 500 ]  19% - 0:00:00 left \r [  96 / 500 ]  19% - 0:00:00 left \r [  97 / 500 ]  19% - 0:00:00 left \r [  98 / 500 ]  20% - 0:00:00 left \r [  99 / 500 ]  20% - 0:00:00 left \r [ 100 / 500 ]  20% - 0:00:00 left \r [ 101 / 500 ]  20% - 0:00:00 left \r [ 102 / 500 ]  20% - 0:00:00 left \r [ 103 / 500 ]  21% - 0:00:00 left \r [ 104 / 500 ]  21% - 0:00:00 left \r [ 105 / 500 ]  21% - 0:00:00 left \r [ 106 / 500 ]  21% - 0:00:00 left \r [ 107 / 500 ]  21% - 0:00:00 left \r [ 108 / 500 ]  22% - 0:00:00 left \r [ 109 / 500 ]  22% - 0:00:00 left \r [ 110 / 500 ]  22% - 0:00:00 left \r [ 111 / 500 ]  22% - 0:00:00 left \r [ 112 / 500 ]  22% - 0:00:00 left \r [ 113 / 500 ]  23% - 0:00:00 left \r [ 114 / 500 ]  23% - 0:00:00 left \r [ 115 / 500 ]  23% - 0:00:00 left \r [ 116 / 500 ]  23% - 0:00:00 left \r [ 117 / 500 ]  23% - 0:00:00 left \r [ 118 / 500 ]  24% - 0:00:00 left \r [ 119 / 500 ]  24% - 0:00:00 left \r [ 120 / 500 ]  24% - 0:00:00 left \r [ 121 / 500 ]  24% - 0:00:00 left \r [ 122 / 500 ]  24% - 0:00:00 left \r [ 123 / 500 ]  25% - 0:00:00 left \r [ 124 / 500 ]  25% - 0:00:00 left \r [ 125 / 500 ]  25% - 0:00:00 left \r [ 126 / 500 ]  25% - 0:00:00 left \r [ 127 / 500 ]  25% - 0:00:00 left \r [ 128 / 500 ]  26% - 0:00:00 left \r [ 129 / 500 ]  26% - 0:00:00 left \r [ 130 / 500 ]  26% - 0:00:00 left \r [ 131 / 500 ]  26% - 0:00:00 left \r [ 132 / 500 ]  26% - 0:00:00 left \r [ 133 / 500 ]  27% - 0:00:00 left \r [ 134 / 500 ]  27% - 0:00:00 left \r [ 135 / 500 ]  27% - 0:00:00 left \r [ 136 / 500 ]  27% - 0:00:00 left \r [ 137 / 500 ]  27% - 0:00:00 left \r [ 138 / 500 ]  28% - 0:00:00 left \r [ 139 / 500 ]  28% - 0:00:00 left \r [ 140 / 500 ]  28% - 0:00:00 left \r [ 141 / 500 ]  28% - 0:00:00 left \r [ 142 / 500 ]  28% - 0:00:00 left \r [ 143 / 500 ]  29% - 0:00:00 left \r [ 144 / 500 ]  29% - 0:00:00 left \r [ 145 / 500 ]  29% - 0:00:00 left \r [ 146 / 500 ]  29% - 0:00:00 left \r [ 147 / 500 ]  29% - 0:00:00 left \r [ 148 / 500 ]  30% - 0:00:00 left \r [ 149 / 500 ]  30% - 0:00:00 left \r [ 150 / 500 ]  30% - 0:00:00 left \r [ 151 / 500 ]  30% - 0:00:00 left \r [ 152 / 500 ]  30% - 0:00:00 left \r [ 153 / 500 ]  31% - 0:00:00 left \r [ 154 / 500 ]  31% - 0:00:00 left \r [ 155 / 500 ]  31% - 0:00:00 left \r [ 156 / 500 ]  31% - 0:00:00 left \r [ 157 / 500 ]  31% - 0:00:00 left \r [ 158 / 500 ]  32% - 0:00:00 left \r [ 159 / 500 ]  32% - 0:00:00 left \r [ 160 / 500 ]  32% - 0:00:00 left \r [ 161 / 500 ]  32% - 0:00:00 left \r [ 162 / 500 ]  32% - 0:00:00 left \r [ 163 / 500 ]  33% - 0:00:00 left \r [ 164 / 500 ]  33% - 0:00:00 left \r [ 165 / 500 ]  33% - 0:00:00 left \r [ 166 / 500 ]  33% - 0:00:00 left \r [ 167 / 500 ]  33% - 0:00:00 left \r [ 168 / 500 ]  34% - 0:00:00 left \r [ 169 / 500 ]  34% - 0:00:00 left \r [ 170 / 500 ]  34% - 0:00:00 left \r [ 171 / 500 ]  34% - 0:00:00 left \r [ 172 / 500 ]  34% - 0:00:00 left \r [ 173 / 500 ]  35% - 0:00:00 left \r [ 174 / 500 ]  35% - 0:00:00 left \r [ 175 / 500 ]  35% - 0:00:00 left \r [ 176 / 500 ]  35% - 0:00:00 left \r [ 177 / 500 ]  35% - 0:00:00 left \r [ 178 / 500 ]  36% - 0:00:00 left \r [ 179 / 500 ]  36% - 0:00:00 left \r [ 180 / 500 ]  36% - 0:00:00 left \r [ 181 / 500 ]  36% - 0:00:00 left \r [ 182 / 500 ]  36% - 0:00:00 left \r [ 183 / 500 ]  37% - 0:00:00 left \r [ 184 / 500 ]  37% - 0:00:00 left \r [ 185 / 500 ]  37% - 0:00:00 left \r [ 186 / 500 ]  37% - 0:00:00 left \r [ 187 / 500 ]  37% - 0:00:00 left \r [ 188 / 500 ]  38% - 0:00:00 left \r [ 189 / 500 ]  38% - 0:00:00 left \r [ 190 / 500 ]  38% - 0:00:00 left \r [ 191 / 500 ]  38% - 0:00:00 left \r [ 192 / 500 ]  38% - 0:00:00 left \r [ 193 / 500 ]  39% - 0:00:00 left \r [ 194 / 500 ]  39% - 0:00:00 left \r [ 195 / 500 ]  39% - 0:00:00 left \r [ 196 / 500 ]  39% - 0:00:00 left \r [ 197 / 500 ]  39% - 0:00:00 left \r [ 198 / 500 ]  40% - 0:00:00 left \r [ 199 / 500 ]  40% - 0:00:00 left \r [ 200 / 500 ]  40% - 0:00:00 left \r [ 201 / 500 ]  40% - 0:00:00 left \r [ 202 / 500 ]  40% - 0:00:00 left \r [ 203 / 500 ]  41% - 0:00:00 left \r [ 204 / 500 ]  41% - 0:00:00 left \r [ 205 / 500 ]  41% - 0:00:00 left \r [ 206 / 500 ]  41% - 0:00:00 left \r [ 207 / 500 ]  41% - 0:00:00 left \r [ 208 / 500 ]  42% - 0:00:00 left \r [ 209 / 500 ]  42% - 0:00:00 left \r [ 210 / 500 ]  42% - 0:00:00 left \r [ 211 / 500 ]  42% - 0:00:00 left \r [ 212 / 500 ]  42% - 0:00:00 left \r [ 213 / 500 ]  43% - 0:00:00 left \r [ 214 / 500 ]  43% - 0:00:00 left \r [ 215 / 500 ]  43% - 0:00:00 left \r [ 216 / 500 ]  43% - 0:00:00 left \r [ 217 / 500 ]  43% - 0:00:00 left \r [ 218 / 500 ]  44% - 0:00:00 left \r [ 219 / 500 ]  44% - 0:00:00 left \r [ 220 / 500 ]  44% - 0:00:00 left \r [ 221 / 500 ]  44% - 0:00:00 left \r [ 222 / 500 ]  44% - 0:00:00 left \r [ 223 / 500 ]  45% - 0:00:00 left \r [ 224 / 500 ]  45% - 0:00:00 left \r [ 225 / 500 ]  45% - 0:00:00 left \r [ 226 / 500 ]  45% - 0:00:00 left \r [ 227 / 500 ]  45% - 0:00:00 left \r [ 228 / 500 ]  46% - 0:00:00 left \r [ 229 / 500 ]  46% - 0:00:00 left \r [ 230 / 500 ]  46% - 0:00:00 left \r [ 231 / 500 ]  46% - 0:00:00 left \r [ 232 / 500 ]  46% - 0:00:00 left \r [ 233 / 500 ]  47% - 0:00:00 left \r [ 234 / 500 ]  47% - 0:00:00 left \r [ 235 / 500 ]  47% - 0:00:00 left \r [ 236 / 500 ]  47% - 0:00:00 left \r [ 237 / 500 ]  47% - 0:00:00 left \r [ 238 / 500 ]  48% - 0:00:00 left \r [ 239 / 500 ]  48% - 0:00:00 left \r [ 240 / 500 ]  48% - 0:00:00 left \r [ 241 / 500 ]  48% - 0:00:00 left \r [ 242 / 500 ]  48% - 0:00:00 left \r [ 243 / 500 ]  49% - 0:00:00 left \r [ 244 / 500 ]  49% - 0:00:00 left \r [ 245 / 500 ]  49% - 0:00:00 left \r [ 246 / 500 ]  49% - 0:00:00 left \r [ 247 / 500 ]  49% - 0:00:00 left \r [ 248 / 500 ]  50% - 0:00:00 left \r [ 249 / 500 ]  50% - 0:00:00 left \r [ 250 / 500 ]  50% - 0:00:00 left \r [ 251 / 500 ]  50% - 0:00:00 left \r [ 252 / 500 ]  50% - 0:00:00 left \r [ 253 / 500 ]  51% - 0:00:00 left \r [ 254 / 500 ]  51% - 0:00:00 left \r [ 255 / 500 ]  51% - 0:00:00 left \r [ 256 / 500 ]  51% - 0:00:00 left \r [ 257 / 500 ]  51% - 0:00:00 left \r [ 258 / 500 ]  52% - 0:00:00 left \r [ 259 / 500 ]  52% - 0:00:00 left \r [ 260 / 500 ]  52% - 0:00:00 left \r [ 261 / 500 ]  52% - 0:00:00 left \r [ 262 / 500 ]  52% - 0:00:00 left \r [ 263 / 500 ]  53% - 0:00:00 left \r [ 264 / 500 ]  53% - 0:00:00 left \r [ 265 / 500 ]  53% - 0:00:00 left \r [ 266 / 500 ]  53% - 0:00:00 left \r [ 267 / 500 ]  53% - 0:00:00 left \r [ 268 / 500 ]  54% - 0:00:00 left \r [ 269 / 500 ]  54% - 0:00:00 left \r [ 270 / 500 ]  54% - 0:00:00 left \r [ 271 / 500 ]  54% - 0:00:00 left \r [ 272 / 500 ]  54% - 0:00:00 left \r [ 273 / 500 ]  55% - 0:00:00 left \r [ 274 / 500 ]  55% - 0:00:00 left \r [ 275 / 500 ]  55% - 0:00:00 left \r [ 276 / 500 ]  55% - 0:00:00 left \r [ 277 / 500 ]  55% - 0:00:00 left \r [ 278 / 500 ]  56% - 0:00:00 left \r [ 279 / 500 ]  56% - 0:00:00 left \r [ 280 / 500 ]  56% - 0:00:00 left \r [ 281 / 500 ]  56% - 0:00:00 left \r [ 282 / 500 ]  56% - 0:00:00 left \r [ 283 / 500 ]  57% - 0:00:00 left \r [ 284 / 500 ]  57% - 0:00:00 left \r [ 285 / 500 ]  57% - 0:00:00 left \r [ 286 / 500 ]  57% - 0:00:00 left \r [ 287 / 500 ]  57% - 0:00:00 left \r [ 288 / 500 ]  58% - 0:00:00 left \r [ 289 / 500 ]  58% - 0:00:00 left \r [ 290 / 500 ]  58% - 0:00:00 left \r [ 291 / 500 ]  58% - 0:00:00 left \r [ 292 / 500 ]  58% - 0:00:00 left \r [ 293 / 500 ]  59% - 0:00:00 left \r [ 294 / 500 ]  59% - 0:00:00 left \r [ 295 / 500 ]  59% - 0:00:00 left \r [ 296 / 500 ]  59% - 0:00:00 left \r [ 297 / 500 ]  59% - 0:00:00 left \r [ 298 / 500 ]  60% - 0:00:00 left \r [ 299 / 500 ]  60% - 0:00:00 left \r [ 300 / 500 ]  60% - 0:00:00 left \r [ 301 / 500 ]  60% - 0:00:00 left \r [ 302 / 500 ]  60% - 0:00:00 left \r [ 303 / 500 ]  61% - 0:00:00 left \r [ 304 / 500 ]  61% - 0:00:00 left \r [ 305 / 500 ]  61% - 0:00:00 left \r [ 306 / 500 ]  61% - 0:00:00 left \r [ 307 / 500 ]  61% - 0:00:00 left \r [ 308 / 500 ]  62% - 0:00:00 left \r [ 309 / 500 ]  62% - 0:00:00 left \r [ 310 / 500 ]  62% - 0:00:00 left \r [ 311 / 500 ]  62% - 0:00:00 left \r [ 312 / 500 ]  62% - 0:00:00 left \r [ 313 / 500 ]  63% - 0:00:00 left \r [ 314 / 500 ]  63% - 0:00:00 left \r [ 315 / 500 ]  63% - 0:00:00 left \r [ 316 / 500 ]  63% - 0:00:00 left \r [ 317 / 500 ]  63% - 0:00:00 left \r [ 318 / 500 ]  64% - 0:00:00 left \r [ 319 / 500 ]  64% - 0:00:00 left \r [ 320 / 500 ]  64% - 0:00:00 left \r [ 321 / 500 ]  64% - 0:00:00 left \r [ 322 / 500 ]  64% - 0:00:00 left \r [ 323 / 500 ]  65% - 0:00:00 left \r [ 324 / 500 ]  65% - 0:00:00 left \r [ 325 / 500 ]  65% - 0:00:00 left \r [ 326 / 500 ]  65% - 0:00:00 left \r [ 327 / 500 ]  65% - 0:00:00 left \r [ 328 / 500 ]  66% - 0:00:00 left \r [ 329 / 500 ]  66% - 0:00:00 left \r [ 330 / 500 ]  66% - 0:00:00 left \r [ 331 / 500 ]  66% - 0:00:00 left \r [ 332 / 500 ]  66% - 0:00:00 left \r [ 333 / 500 ]  67% - 0:00:00 left \r [ 334 / 500 ]  67% - 0:00:00 left \r [ 335 / 500 ]  67% - 0:00:00 left \r [ 336 / 500 ]  67% - 0:00:00 left \r [ 337 / 500 ]  67% - 0:00:00 left \r [ 338 / 500 ]  68% - 0:00:00 left \r [ 339 / 500 ]  68% - 0:00:00 left \r [ 340 / 500 ]  68% - 0:00:00 left \r [ 341 / 500 ]  68% - 0:00:00 left \r [ 342 / 500 ]  68% - 0:00:00 left \r [ 343 / 500 ]  69% - 0:00:00 left \r [ 344 / 500 ]  69% - 0:00:00 left \r [ 345 / 500 ]  69% - 0:00:00 left \r [ 346 / 500 ]  69% - 0:00:00 left \r [ 347 / 500 ]  69% - 0:00:00 left \r [ 348 / 500 ]  70% - 0:00:00 left \r [ 349 / 500 ]  70% - 0:00:00 left \r [ 350 / 500 ]  70% - 0:00:00 left \r [ 351 / 500 ]  70% - 0:00:00 left \r [ 352 / 500 ]  70% - 0:00:00 left \r [ 353 / 500 ]  71% - 0:00:00 left \r [ 354 / 500 ]  71% - 0:00:00 left \r [ 355 / 500 ]  71% - 0:00:00 left \r [ 356 / 500 ]  71% - 0:00:00 left \r [ 357 / 500 ]  71% - 0:00:00 left \r [ 358 / 500 ]  72% - 0:00:00 left \r [ 359 / 500 ]  72% - 0:00:00 left \r [ 360 / 500 ]  72% - 0:00:00 left \r [ 361 / 500 ]  72% - 0:00:00 left \r [ 362 / 500 ]  72% - 0:00:00 left \r [ 363 / 500 ]  73% - 0:00:00 left \r [ 364 / 500 ]  73% - 0:00:00 left \r [ 365 / 500 ]  73% - 0:00:00 left \r [ 366 / 500 ]  73% - 0:00:00 left \r [ 367 / 500 ]  73% - 0:00:00 left \r [ 368 / 500 ]  74% - 0:00:00 left \r [ 369 / 500 ]  74% - 0:00:00 left \r [ 370 / 500 ]  74% - 0:00:00 left \r [ 371 / 500 ]  74% - 0:00:00 left \r [ 372 / 500 ]  74% - 0:00:00 left \r [ 373 / 500 ]  75% - 0:00:00 left \r [ 374 / 500 ]  75% - 0:00:00 left \r [ 375 / 500 ]  75% - 0:00:00 left \r [ 376 / 500 ]  75% - 0:00:00 left \r [ 377 / 500 ]  75% - 0:00:00 left \r [ 378 / 500 ]  76% - 0:00:00 left \r [ 379 / 500 ]  76% - 0:00:00 left \r [ 380 / 500 ]  76% - 0:00:00 left \r [ 381 / 500 ]  76% - 0:00:00 left \r [ 382 / 500 ]  76% - 0:00:00 left \r [ 383 / 500 ]  77% - 0:00:00 left \r [ 384 / 500 ]  77% - 0:00:00 left \r [ 385 / 500 ]  77% - 0:00:00 left \r [ 386 / 500 ]  77% - 0:00:00 left \r [ 387 / 500 ]  77% - 0:00:00 left \r [ 388 / 500 ]  78% - 0:00:00 left \r [ 389 / 500 ]  78% - 0:00:00 left \r [ 390 / 500 ]  78% - 0:00:00 left \r [ 391 / 500 ]  78% - 0:00:00 left \r [ 392 / 500 ]  78% - 0:00:00 left \r [ 393 / 500 ]  79% - 0:00:00 left \r [ 394 / 500 ]  79% - 0:00:00 left \r [ 395 / 500 ]  79% - 0:00:00 left \r [ 396 / 500 ]  79% - 0:00:00 left \r [ 397 / 500 ]  79% - 0:00:00 left \r [ 398 / 500 ]  80% - 0:00:00 left \r [ 399 / 500 ]  80% - 0:00:00 left \r [ 400 / 500 ]  80% - 0:00:00 left \r [ 401 / 500 ]  80% - 0:00:00 left \r [ 402 / 500 ]  80% - 0:00:00 left \r [ 403 / 500 ]  81% - 0:00:00 left \r [ 404 / 500 ]  81% - 0:00:00 left \r [ 405 / 500 ]  81% - 0:00:00 left \r [ 406 / 500 ]  81% - 0:00:00 left \r [ 407 / 500 ]  81% - 0:00:00 left \r [ 408 / 500 ]  82% - 0:00:00 left \r [ 409 / 500 ]  82% - 0:00:00 left \r [ 410 / 500 ]  82% - 0:00:00 left \r [ 411 / 500 ]  82% - 0:00:00 left \r [ 412 / 500 ]  82% - 0:00:00 left \r [ 413 / 500 ]  83% - 0:00:00 left \r [ 414 / 500 ]  83% - 0:00:00 left \r [ 415 / 500 ]  83% - 0:00:00 left \r [ 416 / 500 ]  83% - 0:00:00 left \r [ 417 / 500 ]  83% - 0:00:00 left \r [ 418 / 500 ]  84% - 0:00:00 left \r [ 419 / 500 ]  84% - 0:00:00 left \r [ 420 / 500 ]  84% - 0:00:00 left \r [ 421 / 500 ]  84% - 0:00:00 left \r [ 422 / 500 ]  84% - 0:00:00 left \r [ 423 / 500 ]  85% - 0:00:00 left \r [ 424 / 500 ]  85% - 0:00:00 left \r [ 425 / 500 ]  85% - 0:00:00 left \r [ 426 / 500 ]  85% - 0:00:00 left \r [ 427 / 500 ]  85% - 0:00:00 left \r [ 428 / 500 ]  86% - 0:00:00 left \r [ 429 / 500 ]  86% - 0:00:00 left \r [ 430 / 500 ]  86% - 0:00:00 left \r [ 431 / 500 ]  86% - 0:00:00 left \r [ 432 / 500 ]  86% - 0:00:00 left \r [ 433 / 500 ]  87% - 0:00:00 left \r [ 434 / 500 ]  87% - 0:00:00 left \r [ 435 / 500 ]  87% - 0:00:00 left \r [ 436 / 500 ]  87% - 0:00:00 left \r [ 437 / 500 ]  87% - 0:00:00 left \r [ 438 / 500 ]  88% - 0:00:00 left \r [ 439 / 500 ]  88% - 0:00:00 left \r [ 440 / 500 ]  88% - 0:00:00 left \r [ 441 / 500 ]  88% - 0:00:00 left \r [ 442 / 500 ]  88% - 0:00:00 left \r [ 443 / 500 ]  89% - 0:00:00 left \r [ 444 / 500 ]  89% - 0:00:00 left \r [ 445 / 500 ]  89% - 0:00:00 left \r [ 446 / 500 ]  89% - 0:00:00 left \r [ 447 / 500 ]  89% - 0:00:00 left \r [ 448 / 500 ]  90% - 0:00:00 left \r [ 449 / 500 ]  90% - 0:00:00 left \r [ 450 / 500 ]  90% - 0:00:00 left \r [ 451 / 500 ]  90% - 0:00:00 left \r [ 452 / 500 ]  90% - 0:00:00 left \r [ 453 / 500 ]  91% - 0:00:00 left \r [ 454 / 500 ]  91% - 0:00:00 left \r [ 455 / 500 ]  91% - 0:00:00 left \r [ 456 / 500 ]  91% - 0:00:00 left \r [ 457 / 500 ]  91% - 0:00:00 left \r [ 458 / 500 ]  92% - 0:00:00 left \r [ 459 / 500 ]  92% - 0:00:00 left \r [ 460 / 500 ]  92% - 0:00:00 left \r [ 461 / 500 ]  92% - 0:00:00 left \r [ 462 / 500 ]  92% - 0:00:00 left \r [ 463 / 500 ]  93% - 0:00:00 left \r [ 464 / 500 ]  93% - 0:00:00 left \r [ 465 / 500 ]  93% - 0:00:00 left \r [ 466 / 500 ]  93% - 0:00:00 left \r [ 467 / 500 ]  93% - 0:00:00 left \r [ 468 / 500 ]  94% - 0:00:00 left \r [ 469 / 500 ]  94% - 0:00:00 left \r [ 470 / 500 ]  94% - 0:00:00 left \r [ 471 / 500 ]  94% - 0:00:00 left \r [ 472 / 500 ]  94% - 0:00:00 left \r [ 473 / 500 ]  95% - 0:00:00 left \r [ 474 / 500 ]  95% - 0:00:00 left \r [ 475 / 500 ]  95% - 0:00:00 left \r [ 476 / 500 ]  95% - 0:00:00 left \r [ 477 / 500 ]  95% - 0:00:00 left \r [ 478 / 500 ]  96% - 0:00:00 left \r [ 479 / 500 ]  96% - 0:00:00 left \r [ 480 / 500 ]  96% - 0:00:00 left \r [ 481 / 500 ]  96% - 0:00:00 left \r [ 482 / 500 ]  96% - 0:00:00 left \r [ 483 / 500 ]  97% - 0:00:00 left \r [ 484 / 500 ]  97% - 0:00:00 left \r [ 485 / 500 ]  97% - 0:00:00 left \r [ 486 / 500 ]  97% - 0:00:00 left \r [ 487 / 500 ]  97% - 0:00:00 left \r [ 488 / 500 ]  98% - 0:00:00 left \r [ 489 / 500 ]  98% - 0:00:00 left \r [ 490 / 500 ]  98% - 0:00:00 left \r [ 491 / 500 ]  98% - 0:00:00 left \r [ 492 / 500 ]  98% - 0:00:00 left \r [ 493 / 500 ]  99% - 0:00:00 left \r [ 494 / 500 ]  99% - 0:00:00 left \r [ 495 / 500 ]  99% - 0:00:00 left \r [ 496 / 500 ]  99% - 0:00:00 left \r [ 497 / 500 ]  99% - 0:00:00 left \r [ 498 / 500 ] 100% - 0:00:00 left \r [ 499 / 500 ] 100% - 0:00:00 left \r [ 500 / 500 ] 100% - 0:00:00 left \n",
            " quantization error: 0.2727755471124668\n"
          ],
          "name": "stdout"
        }
      ]
    },
    {
      "cell_type": "code",
      "metadata": {
        "id": "ZsPRPetq4sls"
      },
      "source": [
        "winner_coordinates = np.array([som_7x7.winner(x) for x in data]).T\n",
        "cluster_index = np.ravel_multi_index(winner_coordinates, (m_h ,m_w))"
      ],
      "execution_count": null,
      "outputs": []
    },
    {
      "cell_type": "code",
      "metadata": {
        "id": "TiCh9HPS4yIG",
        "outputId": "fa445f60-9abe-4bf5-df99-23ec8f6a6a07",
        "colab": {
          "base_uri": "https://localhost:8080/",
          "height": 269
        }
      },
      "source": [
        "from pylab import plot,axis,show,pcolor,colorbar,bone\n",
        "bone()\n",
        "pcolor(som_7x7.distance_map().T)\n",
        "colorbar()\n",
        "t = classes\n",
        "markers = ['o','s','D']\n",
        "colors = ['r','g','b']\n",
        "for cnt,xx in enumerate(data):\n",
        "  w = som_7x7.winner(xx)\n",
        "  plot(w[0]+.5,w[1]+.5,markers[t[cnt]],markerfacecolor='None',markeredgecolor=colors[t[cnt]],markersize=12,markeredgewidth=2)\n",
        "\n",
        "show()"
      ],
      "execution_count": null,
      "outputs": [
        {
          "output_type": "display_data",
          "data": {
            "image/png": "[encoded data removed]",
            "text/plain": [
              "<Figure size 432x288 with 2 Axes>"
            ]
          },
          "metadata": {
            "tags": [],
            "needs_background": "light"
          }
        }
      ]
    },
    {
      "cell_type": "markdown",
      "metadata": {
        "id": "RgHysWiW41pd"
      },
      "source": [
        "Find the Silhouette Coefficient of the clusters."
      ]
    },
    {
      "cell_type": "code",
      "metadata": {
        "id": "iKn7UPhO4yO8",
        "outputId": "30de3a0a-7055-4e37-ddee-632d884c62b4",
        "colab": {
          "base_uri": "https://localhost:8080/"
        }
      },
      "source": [
        "m_h ,m_w, f = 1,3,4\n",
        "som_1x3 = MiniSom(m_h ,m_w, f, sigma=0.5, learning_rate=0.9)\n",
        "som_1x3.random_weights_init(data)\n",
        "som_1x3.train_random(data,500,verbose=True)"
      ],
      "execution_count": null,
      "outputs": [
        {
          "output_type": "stream",
          "text": [
            "\r [   0 / 500 ]   0% - ? it/s\r [   0 / 500 ]   0% - ? it/s\r [   1 / 500 ]   0% - 0:00:00 left \r [   2 / 500 ]   0% - 0:00:00 left \r [   3 / 500 ]   1% - 0:00:00 left \r [   4 / 500 ]   1% - 0:00:00 left \r [   5 / 500 ]   1% - 0:00:00 left \r [   6 / 500 ]   1% - 0:00:00 left \r [   7 / 500 ]   1% - 0:00:00 left \r [   8 / 500 ]   2% - 0:00:00 left \r [   9 / 500 ]   2% - 0:00:00 left \r [  10 / 500 ]   2% - 0:00:00 left \r [  11 / 500 ]   2% - 0:00:00 left \r [  12 / 500 ]   2% - 0:00:00 left \r [  13 / 500 ]   3% - 0:00:00 left \r [  14 / 500 ]   3% - 0:00:00 left \r [  15 / 500 ]   3% - 0:00:00 left \r [  16 / 500 ]   3% - 0:00:00 left \r [  17 / 500 ]   3% - 0:00:00 left \r [  18 / 500 ]   4% - 0:00:00 left \r [  19 / 500 ]   4% - 0:00:00 left \r [  20 / 500 ]   4% - 0:00:00 left \r [  21 / 500 ]   4% - 0:00:00 left \r [  22 / 500 ]   4% - 0:00:00 left \r [  23 / 500 ]   5% - 0:00:00 left \r [  24 / 500 ]   5% - 0:00:00 left \r [  25 / 500 ]   5% - 0:00:00 left \r [  26 / 500 ]   5% - 0:00:00 left \r [  27 / 500 ]   5% - 0:00:00 left \r [  28 / 500 ]   6% - 0:00:00 left \r [  29 / 500 ]   6% - 0:00:00 left \r [  30 / 500 ]   6% - 0:00:00 left \r [  31 / 500 ]   6% - 0:00:00 left \r [  32 / 500 ]   6% - 0:00:00 left \r [  33 / 500 ]   7% - 0:00:00 left \r [  34 / 500 ]   7% - 0:00:00 left \r [  35 / 500 ]   7% - 0:00:00 left \r [  36 / 500 ]   7% - 0:00:00 left \r [  37 / 500 ]   7% - 0:00:00 left \r [  38 / 500 ]   8% - 0:00:00 left \r [  39 / 500 ]   8% - 0:00:00 left \r [  40 / 500 ]   8% - 0:00:00 left \r [  41 / 500 ]   8% - 0:00:00 left \r [  42 / 500 ]   8% - 0:00:00 left \r [  43 / 500 ]   9% - 0:00:00 left \r [  44 / 500 ]   9% - 0:00:00 left \r [  45 / 500 ]   9% - 0:00:00 left \r [  46 / 500 ]   9% - 0:00:00 left \r [  47 / 500 ]   9% - 0:00:00 left \r [  48 / 500 ]  10% - 0:00:00 left \r [  49 / 500 ]  10% - 0:00:00 left \r [  50 / 500 ]  10% - 0:00:00 left \r [  51 / 500 ]  10% - 0:00:00 left \r [  52 / 500 ]  10% - 0:00:00 left \r [  53 / 500 ]  11% - 0:00:00 left \r [  54 / 500 ]  11% - 0:00:00 left \r [  55 / 500 ]  11% - 0:00:00 left \r [  56 / 500 ]  11% - 0:00:00 left \r [  57 / 500 ]  11% - 0:00:00 left \r [  58 / 500 ]  12% - 0:00:00 left \r [  59 / 500 ]  12% - 0:00:00 left \r [  60 / 500 ]  12% - 0:00:00 left \r [  61 / 500 ]  12% - 0:00:00 left \r [  62 / 500 ]  12% - 0:00:00 left \r [  63 / 500 ]  13% - 0:00:00 left \r [  64 / 500 ]  13% - 0:00:00 left \r [  65 / 500 ]  13% - 0:00:00 left \r [  66 / 500 ]  13% - 0:00:00 left \r [  67 / 500 ]  13% - 0:00:00 left \r [  68 / 500 ]  14% - 0:00:00 left \r [  69 / 500 ]  14% - 0:00:00 left \r [  70 / 500 ]  14% - 0:00:00 left \r [  71 / 500 ]  14% - 0:00:00 left \r [  72 / 500 ]  14% - 0:00:00 left \r [  73 / 500 ]  15% - 0:00:00 left \r [  74 / 500 ]  15% - 0:00:00 left \r [  75 / 500 ]  15% - 0:00:00 left \r [  76 / 500 ]  15% - 0:00:00 left \r [  77 / 500 ]  15% - 0:00:00 left \r [  78 / 500 ]  16% - 0:00:00 left \r [  79 / 500 ]  16% - 0:00:00 left \r [  80 / 500 ]  16% - 0:00:00 left \r [  81 / 500 ]  16% - 0:00:00 left \r [  82 / 500 ]  16% - 0:00:00 left \r [  83 / 500 ]  17% - 0:00:00 left \r [  84 / 500 ]  17% - 0:00:00 left \r [  85 / 500 ]  17% - 0:00:00 left \r [  86 / 500 ]  17% - 0:00:00 left \r [  87 / 500 ]  17% - 0:00:00 left \r [  88 / 500 ]  18% - 0:00:00 left \r [  89 / 500 ]  18% - 0:00:00 left \r [  90 / 500 ]  18% - 0:00:00 left \r [  91 / 500 ]  18% - 0:00:00 left \r [  92 / 500 ]  18% - 0:00:00 left \r [  93 / 500 ]  19% - 0:00:00 left \r [  94 / 500 ]  19% - 0:00:00 left \r [  95 / 500 ]  19% - 0:00:00 left \r [  96 / 500 ]  19% - 0:00:00 left \r [  97 / 500 ]  19% - 0:00:00 left \r [  98 / 500 ]  20% - 0:00:00 left \r [  99 / 500 ]  20% - 0:00:00 left \r [ 100 / 500 ]  20% - 0:00:00 left \r [ 101 / 500 ]  20% - 0:00:00 left \r [ 102 / 500 ]  20% - 0:00:00 left \r [ 103 / 500 ]  21% - 0:00:00 left \r [ 104 / 500 ]  21% - 0:00:00 left \r [ 105 / 500 ]  21% - 0:00:00 left \r [ 106 / 500 ]  21% - 0:00:00 left \r [ 107 / 500 ]  21% - 0:00:00 left \r [ 108 / 500 ]  22% - 0:00:00 left \r [ 109 / 500 ]  22% - 0:00:00 left \r [ 110 / 500 ]  22% - 0:00:00 left \r [ 111 / 500 ]  22% - 0:00:00 left \r [ 112 / 500 ]  22% - 0:00:00 left \r [ 113 / 500 ]  23% - 0:00:00 left \r [ 114 / 500 ]  23% - 0:00:00 left \r [ 115 / 500 ]  23% - 0:00:00 left \r [ 116 / 500 ]  23% - 0:00:00 left \r [ 117 / 500 ]  23% - 0:00:00 left \r [ 118 / 500 ]  24% - 0:00:00 left \r [ 119 / 500 ]  24% - 0:00:00 left \r [ 120 / 500 ]  24% - 0:00:00 left \r [ 121 / 500 ]  24% - 0:00:00 left \r [ 122 / 500 ]  24% - 0:00:00 left \r [ 123 / 500 ]  25% - 0:00:00 left \r [ 124 / 500 ]  25% - 0:00:00 left \r [ 125 / 500 ]  25% - 0:00:00 left \r [ 126 / 500 ]  25% - 0:00:00 left \r [ 127 / 500 ]  25% - 0:00:00 left \r [ 128 / 500 ]  26% - 0:00:00 left \r [ 129 / 500 ]  26% - 0:00:00 left \r [ 130 / 500 ]  26% - 0:00:00 left \r [ 131 / 500 ]  26% - 0:00:00 left \r [ 132 / 500 ]  26% - 0:00:00 left \r [ 133 / 500 ]  27% - 0:00:00 left \r [ 134 / 500 ]  27% - 0:00:00 left \r [ 135 / 500 ]  27% - 0:00:00 left \r [ 136 / 500 ]  27% - 0:00:00 left \r [ 137 / 500 ]  27% - 0:00:00 left \r [ 138 / 500 ]  28% - 0:00:00 left \r [ 139 / 500 ]  28% - 0:00:00 left \r [ 140 / 500 ]  28% - 0:00:00 left \r [ 141 / 500 ]  28% - 0:00:00 left \r [ 142 / 500 ]  28% - 0:00:00 left \r [ 143 / 500 ]  29% - 0:00:00 left \r [ 144 / 500 ]  29% - 0:00:00 left \r [ 145 / 500 ]  29% - 0:00:00 left \r [ 146 / 500 ]  29% - 0:00:00 left \r [ 147 / 500 ]  29% - 0:00:00 left \r [ 148 / 500 ]  30% - 0:00:00 left \r [ 149 / 500 ]  30% - 0:00:00 left \r [ 150 / 500 ]  30% - 0:00:00 left \r [ 151 / 500 ]  30% - 0:00:00 left \r [ 152 / 500 ]  30% - 0:00:00 left \r [ 153 / 500 ]  31% - 0:00:00 left \r [ 154 / 500 ]  31% - 0:00:00 left \r [ 155 / 500 ]  31% - 0:00:00 left \r [ 156 / 500 ]  31% - 0:00:00 left \r [ 157 / 500 ]  31% - 0:00:00 left \r [ 158 / 500 ]  32% - 0:00:00 left \r [ 159 / 500 ]  32% - 0:00:00 left \r [ 160 / 500 ]  32% - 0:00:00 left \r [ 161 / 500 ]  32% - 0:00:00 left \r [ 162 / 500 ]  32% - 0:00:00 left \r [ 163 / 500 ]  33% - 0:00:00 left \r [ 164 / 500 ]  33% - 0:00:00 left \r [ 165 / 500 ]  33% - 0:00:00 left \r [ 166 / 500 ]  33% - 0:00:00 left \r [ 167 / 500 ]  33% - 0:00:00 left \r [ 168 / 500 ]  34% - 0:00:00 left \r [ 169 / 500 ]  34% - 0:00:00 left \r [ 170 / 500 ]  34% - 0:00:00 left \r [ 171 / 500 ]  34% - 0:00:00 left \r [ 172 / 500 ]  34% - 0:00:00 left \r [ 173 / 500 ]  35% - 0:00:00 left \r [ 174 / 500 ]  35% - 0:00:00 left \r [ 175 / 500 ]  35% - 0:00:00 left \r [ 176 / 500 ]  35% - 0:00:00 left \r [ 177 / 500 ]  35% - 0:00:00 left \r [ 178 / 500 ]  36% - 0:00:00 left \r [ 179 / 500 ]  36% - 0:00:00 left \r [ 180 / 500 ]  36% - 0:00:00 left \r [ 181 / 500 ]  36% - 0:00:00 left \r [ 182 / 500 ]  36% - 0:00:00 left \r [ 183 / 500 ]  37% - 0:00:00 left \r [ 184 / 500 ]  37% - 0:00:00 left \r [ 185 / 500 ]  37% - 0:00:00 left \r [ 186 / 500 ]  37% - 0:00:00 left \r [ 187 / 500 ]  37% - 0:00:00 left \r [ 188 / 500 ]  38% - 0:00:00 left \r [ 189 / 500 ]  38% - 0:00:00 left \r [ 190 / 500 ]  38% - 0:00:00 left \r [ 191 / 500 ]  38% - 0:00:00 left \r [ 192 / 500 ]  38% - 0:00:00 left \r [ 193 / 500 ]  39% - 0:00:00 left \r [ 194 / 500 ]  39% - 0:00:00 left \r [ 195 / 500 ]  39% - 0:00:00 left \r [ 196 / 500 ]  39% - 0:00:00 left \r [ 197 / 500 ]  39% - 0:00:00 left \r [ 198 / 500 ]  40% - 0:00:00 left \r [ 199 / 500 ]  40% - 0:00:00 left \r [ 200 / 500 ]  40% - 0:00:00 left \r [ 201 / 500 ]  40% - 0:00:00 left \r [ 202 / 500 ]  40% - 0:00:00 left \r [ 203 / 500 ]  41% - 0:00:00 left \r [ 204 / 500 ]  41% - 0:00:00 left \r [ 205 / 500 ]  41% - 0:00:00 left \r [ 206 / 500 ]  41% - 0:00:00 left \r [ 207 / 500 ]  41% - 0:00:00 left \r [ 208 / 500 ]  42% - 0:00:00 left \r [ 209 / 500 ]  42% - 0:00:00 left \r [ 210 / 500 ]  42% - 0:00:00 left \r [ 211 / 500 ]  42% - 0:00:00 left \r [ 212 / 500 ]  42% - 0:00:00 left \r [ 213 / 500 ]  43% - 0:00:00 left \r [ 214 / 500 ]  43% - 0:00:00 left \r [ 215 / 500 ]  43% - 0:00:00 left \r [ 216 / 500 ]  43% - 0:00:00 left \r [ 217 / 500 ]  43% - 0:00:00 left \r [ 218 / 500 ]  44% - 0:00:00 left \r [ 219 / 500 ]  44% - 0:00:00 left \r [ 220 / 500 ]  44% - 0:00:00 left \r [ 221 / 500 ]  44% - 0:00:00 left \r [ 222 / 500 ]  44% - 0:00:00 left \r [ 223 / 500 ]  45% - 0:00:00 left \r [ 224 / 500 ]  45% - 0:00:00 left \r [ 225 / 500 ]  45% - 0:00:00 left \r [ 226 / 500 ]  45% - 0:00:00 left \r [ 227 / 500 ]  45% - 0:00:00 left \r [ 228 / 500 ]  46% - 0:00:00 left \r [ 229 / 500 ]  46% - 0:00:00 left \r [ 230 / 500 ]  46% - 0:00:00 left \r [ 231 / 500 ]  46% - 0:00:00 left \r [ 232 / 500 ]  46% - 0:00:00 left \r [ 233 / 500 ]  47% - 0:00:00 left \r [ 234 / 500 ]  47% - 0:00:00 left \r [ 235 / 500 ]  47% - 0:00:00 left \r [ 236 / 500 ]  47% - 0:00:00 left \r [ 237 / 500 ]  47% - 0:00:00 left \r [ 238 / 500 ]  48% - 0:00:00 left \r [ 239 / 500 ]  48% - 0:00:00 left \r [ 240 / 500 ]  48% - 0:00:00 left \r [ 241 / 500 ]  48% - 0:00:00 left \r [ 242 / 500 ]  48% - 0:00:00 left \r [ 243 / 500 ]  49% - 0:00:00 left \r [ 244 / 500 ]  49% - 0:00:00 left \r [ 245 / 500 ]  49% - 0:00:00 left \r [ 246 / 500 ]  49% - 0:00:00 left \r [ 247 / 500 ]  49% - 0:00:00 left \r [ 248 / 500 ]  50% - 0:00:00 left \r [ 249 / 500 ]  50% - 0:00:00 left \r [ 250 / 500 ]  50% - 0:00:00 left \r [ 251 / 500 ]  50% - 0:00:00 left \r [ 252 / 500 ]  50% - 0:00:00 left \r [ 253 / 500 ]  51% - 0:00:00 left \r [ 254 / 500 ]  51% - 0:00:00 left \r [ 255 / 500 ]  51% - 0:00:00 left \r [ 256 / 500 ]  51% - 0:00:00 left \r [ 257 / 500 ]  51% - 0:00:00 left \r [ 258 / 500 ]  52% - 0:00:00 left \r [ 259 / 500 ]  52% - 0:00:00 left \r [ 260 / 500 ]  52% - 0:00:00 left \r [ 261 / 500 ]  52% - 0:00:00 left \r [ 262 / 500 ]  52% - 0:00:00 left \r [ 263 / 500 ]  53% - 0:00:00 left \r [ 264 / 500 ]  53% - 0:00:00 left \r [ 265 / 500 ]  53% - 0:00:00 left \r [ 266 / 500 ]  53% - 0:00:00 left \r [ 267 / 500 ]  53% - 0:00:00 left \r [ 268 / 500 ]  54% - 0:00:00 left \r [ 269 / 500 ]  54% - 0:00:00 left \r [ 270 / 500 ]  54% - 0:00:00 left \r [ 271 / 500 ]  54% - 0:00:00 left \r [ 272 / 500 ]  54% - 0:00:00 left \r [ 273 / 500 ]  55% - 0:00:00 left \r [ 274 / 500 ]  55% - 0:00:00 left \r [ 275 / 500 ]  55% - 0:00:00 left \r [ 276 / 500 ]  55% - 0:00:00 left \r [ 277 / 500 ]  55% - 0:00:00 left \r [ 278 / 500 ]  56% - 0:00:00 left \r [ 279 / 500 ]  56% - 0:00:00 left \r [ 280 / 500 ]  56% - 0:00:00 left \r [ 281 / 500 ]  56% - 0:00:00 left \r [ 282 / 500 ]  56% - 0:00:00 left \r [ 283 / 500 ]  57% - 0:00:00 left \r [ 284 / 500 ]  57% - 0:00:00 left \r [ 285 / 500 ]  57% - 0:00:00 left \r [ 286 / 500 ]  57% - 0:00:00 left \r [ 287 / 500 ]  57% - 0:00:00 left \r [ 288 / 500 ]  58% - 0:00:00 left \r [ 289 / 500 ]  58% - 0:00:00 left \r [ 290 / 500 ]  58% - 0:00:00 left \r [ 291 / 500 ]  58% - 0:00:00 left \r [ 292 / 500 ]  58% - 0:00:00 left \r [ 293 / 500 ]  59% - 0:00:00 left \r [ 294 / 500 ]  59% - 0:00:00 left \r [ 295 / 500 ]  59% - 0:00:00 left \r [ 296 / 500 ]  59% - 0:00:00 left \r [ 297 / 500 ]  59% - 0:00:00 left \r [ 298 / 500 ]  60% - 0:00:00 left \r [ 299 / 500 ]  60% - 0:00:00 left \r [ 300 / 500 ]  60% - 0:00:00 left \r [ 301 / 500 ]  60% - 0:00:00 left \r [ 302 / 500 ]  60% - 0:00:00 left \r [ 303 / 500 ]  61% - 0:00:00 left \r [ 304 / 500 ]  61% - 0:00:00 left \r [ 305 / 500 ]  61% - 0:00:00 left \r [ 306 / 500 ]  61% - 0:00:00 left \r [ 307 / 500 ]  61% - 0:00:00 left \r [ 308 / 500 ]  62% - 0:00:00 left \r [ 309 / 500 ]  62% - 0:00:00 left \r [ 310 / 500 ]  62% - 0:00:00 left \r [ 311 / 500 ]  62% - 0:00:00 left \r [ 312 / 500 ]  62% - 0:00:00 left \r [ 313 / 500 ]  63% - 0:00:00 left \r [ 314 / 500 ]  63% - 0:00:00 left \r [ 315 / 500 ]  63% - 0:00:00 left \r [ 316 / 500 ]  63% - 0:00:00 left \r [ 317 / 500 ]  63% - 0:00:00 left \r [ 318 / 500 ]  64% - 0:00:00 left \r [ 319 / 500 ]  64% - 0:00:00 left \r [ 320 / 500 ]  64% - 0:00:00 left \r [ 321 / 500 ]  64% - 0:00:00 left \r [ 322 / 500 ]  64% - 0:00:00 left \r [ 323 / 500 ]  65% - 0:00:00 left \r [ 324 / 500 ]  65% - 0:00:00 left \r [ 325 / 500 ]  65% - 0:00:00 left \r [ 326 / 500 ]  65% - 0:00:00 left \r [ 327 / 500 ]  65% - 0:00:00 left \r [ 328 / 500 ]  66% - 0:00:00 left \r [ 329 / 500 ]  66% - 0:00:00 left \r [ 330 / 500 ]  66% - 0:00:00 left \r [ 331 / 500 ]  66% - 0:00:00 left \r [ 332 / 500 ]  66% - 0:00:00 left \r [ 333 / 500 ]  67% - 0:00:00 left \r [ 334 / 500 ]  67% - 0:00:00 left \r [ 335 / 500 ]  67% - 0:00:00 left \r [ 336 / 500 ]  67% - 0:00:00 left \r [ 337 / 500 ]  67% - 0:00:00 left \r [ 338 / 500 ]  68% - 0:00:00 left \r [ 339 / 500 ]  68% - 0:00:00 left \r [ 340 / 500 ]  68% - 0:00:00 left \r [ 341 / 500 ]  68% - 0:00:00 left \r [ 342 / 500 ]  68% - 0:00:00 left \r [ 343 / 500 ]  69% - 0:00:00 left \r [ 344 / 500 ]  69% - 0:00:00 left \r [ 345 / 500 ]  69% - 0:00:00 left \r [ 346 / 500 ]  69% - 0:00:00 left \r [ 347 / 500 ]  69% - 0:00:00 left \r [ 348 / 500 ]  70% - 0:00:00 left \r [ 349 / 500 ]  70% - 0:00:00 left \r [ 350 / 500 ]  70% - 0:00:00 left \r [ 351 / 500 ]  70% - 0:00:00 left \r [ 352 / 500 ]  70% - 0:00:00 left \r [ 353 / 500 ]  71% - 0:00:00 left \r [ 354 / 500 ]  71% - 0:00:00 left \r [ 355 / 500 ]  71% - 0:00:00 left \r [ 356 / 500 ]  71% - 0:00:00 left \r [ 357 / 500 ]  71% - 0:00:00 left \r [ 358 / 500 ]  72% - 0:00:00 left \r [ 359 / 500 ]  72% - 0:00:00 left \r [ 360 / 500 ]  72% - 0:00:00 left \r [ 361 / 500 ]  72% - 0:00:00 left \r [ 362 / 500 ]  72% - 0:00:00 left \r [ 363 / 500 ]  73% - 0:00:00 left \r [ 364 / 500 ]  73% - 0:00:00 left \r [ 365 / 500 ]  73% - 0:00:00 left \r [ 366 / 500 ]  73% - 0:00:00 left \r [ 367 / 500 ]  73% - 0:00:00 left \r [ 368 / 500 ]  74% - 0:00:00 left \r [ 369 / 500 ]  74% - 0:00:00 left \r [ 370 / 500 ]  74% - 0:00:00 left \r [ 371 / 500 ]  74% - 0:00:00 left \r [ 372 / 500 ]  74% - 0:00:00 left \r [ 373 / 500 ]  75% - 0:00:00 left \r [ 374 / 500 ]  75% - 0:00:00 left \r [ 375 / 500 ]  75% - 0:00:00 left \r [ 376 / 500 ]  75% - 0:00:00 left \r [ 377 / 500 ]  75% - 0:00:00 left \r [ 378 / 500 ]  76% - 0:00:00 left \r [ 379 / 500 ]  76% - 0:00:00 left \r [ 380 / 500 ]  76% - 0:00:00 left \r [ 381 / 500 ]  76% - 0:00:00 left \r [ 382 / 500 ]  76% - 0:00:00 left \r [ 383 / 500 ]  77% - 0:00:00 left \r [ 384 / 500 ]  77% - 0:00:00 left \r [ 385 / 500 ]  77% - 0:00:00 left \r [ 386 / 500 ]  77% - 0:00:00 left \r [ 387 / 500 ]  77% - 0:00:00 left \r [ 388 / 500 ]  78% - 0:00:00 left \r [ 389 / 500 ]  78% - 0:00:00 left \r [ 390 / 500 ]  78% - 0:00:00 left \r [ 391 / 500 ]  78% - 0:00:00 left \r [ 392 / 500 ]  78% - 0:00:00 left \r [ 393 / 500 ]  79% - 0:00:00 left \r [ 394 / 500 ]  79% - 0:00:00 left \r [ 395 / 500 ]  79% - 0:00:00 left \r [ 396 / 500 ]  79% - 0:00:00 left \r [ 397 / 500 ]  79% - 0:00:00 left \r [ 398 / 500 ]  80% - 0:00:00 left \r [ 399 / 500 ]  80% - 0:00:00 left \r [ 400 / 500 ]  80% - 0:00:00 left \r [ 401 / 500 ]  80% - 0:00:00 left \r [ 402 / 500 ]  80% - 0:00:00 left \r [ 403 / 500 ]  81% - 0:00:00 left \r [ 404 / 500 ]  81% - 0:00:00 left \r [ 405 / 500 ]  81% - 0:00:00 left \r [ 406 / 500 ]  81% - 0:00:00 left \r [ 407 / 500 ]  81% - 0:00:00 left \r [ 408 / 500 ]  82% - 0:00:00 left \r [ 409 / 500 ]  82% - 0:00:00 left \r [ 410 / 500 ]  82% - 0:00:00 left \r [ 411 / 500 ]  82% - 0:00:00 left \r [ 412 / 500 ]  82% - 0:00:00 left \r [ 413 / 500 ]  83% - 0:00:00 left \r [ 414 / 500 ]  83% - 0:00:00 left \r [ 415 / 500 ]  83% - 0:00:00 left \r [ 416 / 500 ]  83% - 0:00:00 left \r [ 417 / 500 ]  83% - 0:00:00 left \r [ 418 / 500 ]  84% - 0:00:00 left \r [ 419 / 500 ]  84% - 0:00:00 left \r [ 420 / 500 ]  84% - 0:00:00 left \r [ 421 / 500 ]  84% - 0:00:00 left \r [ 422 / 500 ]  84% - 0:00:00 left \r [ 423 / 500 ]  85% - 0:00:00 left \r [ 424 / 500 ]  85% - 0:00:00 left \r [ 425 / 500 ]  85% - 0:00:00 left \r [ 426 / 500 ]  85% - 0:00:00 left \r [ 427 / 500 ]  85% - 0:00:00 left \r [ 428 / 500 ]  86% - 0:00:00 left \r [ 429 / 500 ]  86% - 0:00:00 left \r [ 430 / 500 ]  86% - 0:00:00 left \r [ 431 / 500 ]  86% - 0:00:00 left \r [ 432 / 500 ]  86% - 0:00:00 left \r [ 433 / 500 ]  87% - 0:00:00 left \r [ 434 / 500 ]  87% - 0:00:00 left \r [ 435 / 500 ]  87% - 0:00:00 left \r [ 436 / 500 ]  87% - 0:00:00 left \r [ 437 / 500 ]  87% - 0:00:00 left \r [ 438 / 500 ]  88% - 0:00:00 left \r [ 439 / 500 ]  88% - 0:00:00 left \r [ 440 / 500 ]  88% - 0:00:00 left \r [ 441 / 500 ]  88% - 0:00:00 left \r [ 442 / 500 ]  88% - 0:00:00 left \r [ 443 / 500 ]  89% - 0:00:00 left \r [ 444 / 500 ]  89% - 0:00:00 left \r [ 445 / 500 ]  89% - 0:00:00 left \r [ 446 / 500 ]  89% - 0:00:00 left \r [ 447 / 500 ]  89% - 0:00:00 left \r [ 448 / 500 ]  90% - 0:00:00 left \r [ 449 / 500 ]  90% - 0:00:00 left \r [ 450 / 500 ]  90% - 0:00:00 left \r [ 451 / 500 ]  90% - 0:00:00 left \r [ 452 / 500 ]  90% - 0:00:00 left \r [ 453 / 500 ]  91% - 0:00:00 left \r [ 454 / 500 ]  91% - 0:00:00 left \r [ 455 / 500 ]  91% - 0:00:00 left \r [ 456 / 500 ]  91% - 0:00:00 left \r [ 457 / 500 ]  91% - 0:00:00 left \r [ 458 / 500 ]  92% - 0:00:00 left \r [ 459 / 500 ]  92% - 0:00:00 left \r [ 460 / 500 ]  92% - 0:00:00 left \r [ 461 / 500 ]  92% - 0:00:00 left \r [ 462 / 500 ]  92% - 0:00:00 left \r [ 463 / 500 ]  93% - 0:00:00 left \r [ 464 / 500 ]  93% - 0:00:00 left \r [ 465 / 500 ]  93% - 0:00:00 left \r [ 466 / 500 ]  93% - 0:00:00 left \r [ 467 / 500 ]  93% - 0:00:00 left \r [ 468 / 500 ]  94% - 0:00:00 left \r [ 469 / 500 ]  94% - 0:00:00 left \r [ 470 / 500 ]  94% - 0:00:00 left \r [ 471 / 500 ]  94% - 0:00:00 left \r [ 472 / 500 ]  94% - 0:00:00 left \r [ 473 / 500 ]  95% - 0:00:00 left \r [ 474 / 500 ]  95% - 0:00:00 left \r [ 475 / 500 ]  95% - 0:00:00 left \r [ 476 / 500 ]  95% - 0:00:00 left \r [ 477 / 500 ]  95% - 0:00:00 left \r [ 478 / 500 ]  96% - 0:00:00 left \r [ 479 / 500 ]  96% - 0:00:00 left \r [ 480 / 500 ]  96% - 0:00:00 left \r [ 481 / 500 ]  96% - 0:00:00 left \r [ 482 / 500 ]  96% - 0:00:00 left \r [ 483 / 500 ]  97% - 0:00:00 left \r [ 484 / 500 ]  97% - 0:00:00 left \r [ 485 / 500 ]  97% - 0:00:00 left \r [ 486 / 500 ]  97% - 0:00:00 left \r [ 487 / 500 ]  97% - 0:00:00 left \r [ 488 / 500 ]  98% - 0:00:00 left \r [ 489 / 500 ]  98% - 0:00:00 left \r [ 490 / 500 ]  98% - 0:00:00 left \r [ 491 / 500 ]  98% - 0:00:00 left \r [ 492 / 500 ]  98% - 0:00:00 left \r [ 493 / 500 ]  99% - 0:00:00 left \r [ 494 / 500 ]  99% - 0:00:00 left \r [ 495 / 500 ]  99% - 0:00:00 left \r [ 496 / 500 ]  99% - 0:00:00 left \r [ 497 / 500 ]  99% - 0:00:00 left \r [ 498 / 500 ] 100% - 0:00:00 left \r [ 499 / 500 ] 100% - 0:00:00 left \r [ 500 / 500 ] 100% - 0:00:00 left \n",
            " quantization error: 0.6900749824744478\n"
          ],
          "name": "stdout"
        }
      ]
    },
    {
      "cell_type": "code",
      "metadata": {
        "id": "HsAgfWS849T6"
      },
      "source": [
        "winner_coordinates = np.array([som_1x3.winner(x) for x in data]).T\n",
        "cluster_index = np.ravel_multi_index(winner_coordinates, (m_h ,m_w))"
      ],
      "execution_count": null,
      "outputs": []
    },
    {
      "cell_type": "code",
      "metadata": {
        "id": "uBciylq149by",
        "outputId": "7396fe97-8fc1-4732-a7f1-59f75c30290d",
        "colab": {
          "base_uri": "https://localhost:8080/"
        }
      },
      "source": [
        "cluster_index"
      ],
      "execution_count": null,
      "outputs": [
        {
          "output_type": "execute_result",
          "data": {
            "text/plain": [
              "array([2, 2, 2, 2, 2, 2, 2, 2, 2, 2, 2, 2, 2, 2, 2, 2, 2, 2, 2, 2, 2, 2,\n",
              "       2, 2, 2, 2, 2, 2, 2, 2, 2, 2, 2, 2, 2, 2, 2, 2, 2, 2, 2, 2, 2, 2,\n",
              "       2, 2, 2, 2, 2, 2, 0, 1, 0, 1, 1, 1, 1, 1, 1, 1, 1, 1, 1, 1, 1, 1,\n",
              "       1, 1, 1, 1, 1, 1, 1, 1, 1, 1, 0, 0, 1, 1, 1, 1, 1, 1, 1, 1, 0, 1,\n",
              "       1, 1, 1, 1, 1, 1, 1, 1, 1, 1, 1, 1, 0, 1, 0, 0, 0, 0, 1, 0, 0, 0,\n",
              "       0, 0, 0, 1, 0, 0, 0, 0, 0, 1, 0, 1, 0, 0, 0, 0, 1, 1, 0, 0, 0, 0,\n",
              "       0, 0, 0, 0, 0, 0, 1, 0, 0, 0, 1, 0, 0, 0, 0, 0, 0, 1])"
            ]
          },
          "metadata": {
            "tags": []
          },
          "execution_count": 16
        }
      ]
    },
    {
      "cell_type": "code",
      "metadata": {
        "id": "512UCxNM5DYk",
        "outputId": "0ef5fc66-81f0-44e4-efea-4d0fd7415fe6",
        "colab": {
          "base_uri": "https://localhost:8080/",
          "height": 265
        }
      },
      "source": [
        "for c in np.unique(cluster_index):\n",
        "  plt.scatter(data[cluster_index == c, 2], data[cluster_index == c, 3], label='cluster='+str(c), alpha=.7)\n",
        "\n",
        "for centroid in som_1x3.get_weights():\n",
        "  plt.scatter(centroid[:, 2], centroid[:, 3], marker='*', s=150, color='k', label='centroid')\n",
        "\n",
        "plt.legend()\n",
        "plt.show()"
      ],
      "execution_count": null,
      "outputs": [
        {
          "output_type": "display_data",
          "data": {
            "image/png": "[encoded data removed]",
            "text/plain": [
              "<Figure size 432x288 with 1 Axes>"
            ]
          },
          "metadata": {
            "tags": [],
            "needs_background": "light"
          }
        }
      ]
    },
    {
      "cell_type": "code",
      "metadata": {
        "id": "kJTyuOU55I94",
        "outputId": "d8dc25f5-5be3-4167-c898-74b2c82c2ebf",
        "colab": {
          "base_uri": "https://localhost:8080/"
        }
      },
      "source": [
        "silhouette_avg_lib = silhouette_score(data, cluster_index)\n",
        "print(\"Library implementation - Silhoutte score:\",silhouette_avg_lib)"
      ],
      "execution_count": null,
      "outputs": [
        {
          "output_type": "stream",
          "text": [
            "Library implementation - Silhoutte score: 0.5364780504069102\n"
          ],
          "name": "stdout"
        }
      ]
    },
    {
      "cell_type": "markdown",
      "metadata": {
        "id": "DciO6tkq5KIB"
      },
      "source": [
        "Compare the accuracy using Silhouette Coefficient of Question: 1&2 with the k-means algorithm from the previous assignment."
      ]
    },
    {
      "cell_type": "code",
      "metadata": {
        "id": "0DFO2lLr5KVC",
        "outputId": "5923e7cb-ba2b-469f-c34b-a78a2150f569",
        "colab": {
          "base_uri": "https://localhost:8080/"
        }
      },
      "source": [
        "m=data.shape[0]\n",
        "n=data.shape[1]\n",
        "\n",
        "def k_means(X,K,n_iter):\n",
        "  centroids = []\n",
        "  for k in range(K):\n",
        "    centroids.append(X[random.randint(0,m-1)])\n",
        "\n",
        "  for i in range(n_iter):\n",
        "    euclid = []\n",
        "    cent = {}\n",
        "\n",
        "    for k in range(K):\n",
        "      dist = np.sqrt(np.sum((X-centroids[k])**2,axis=1))\n",
        "      euclid.append(dist)\n",
        "\n",
        "    minimum = np.argmin(euclid,axis=0)\n",
        "\n",
        "    for k in range(m):\n",
        "      if minimum[k] not in cent:\n",
        "        cent[minimum[k]] = []\n",
        "      cent[minimum[k]].append(X[k])\n",
        "      \n",
        "    for k in cent:\n",
        "      centroids[k] = np.mean(cent[k],axis=0)\n",
        "\n",
        "  return centroids, cent, minimum\n",
        "\n",
        "Centroid, Alloted, Y_pred = k_means(data,3,500)\n",
        "\n",
        "silhouette_avg_kmeans = silhouette_score(data, Y_pred)\n",
        "print(\"K-means implementation - Silhoutte score:\",silhouette_avg_kmeans)"
      ],
      "execution_count": null,
      "outputs": [
        {
          "output_type": "stream",
          "text": [
            "K-means implementation - Silhoutte score: 0.5185675688773275\n"
          ],
          "name": "stdout"
        }
      ]
    }
  ]
}